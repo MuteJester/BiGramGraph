{
 "cells": [
  {
   "cell_type": "markdown",
   "metadata": {},
   "source": [
    "<h3 style=\"background-color:skyblue;font-family:newtimeroman;font-size:250%;text-align:center;border-radius: 15px 50px;\">Libraries and Utilities</h3>\n"
   ]
  },
  {
   "cell_type": "code",
   "execution_count": 167,
   "metadata": {},
   "outputs": [],
   "source": [
    "import numpy             as np\n",
    "import pandas            as pd\n",
    "import matplotlib.pyplot as plt\n",
    "import networkx          as nx\n",
    "import seaborn           as sns\n",
    "from nltk                import ngrams\n",
    "from pyvis.network       import Network\n",
    "import os\n",
    "import re\n",
    "import nltk\n",
    "import pydot\n",
    "import spacy as sp\n",
    "nlps = sp.load('en_core_web_sm')"
   ]
  },
  {
   "cell_type": "markdown",
   "metadata": {},
   "source": [
    "<h3 style=\"background-color:skyblue;font-family:newtimeroman;font-size:250%;text-align:center;border-radius: 15px 50px;\">N gram Graph Generator</h3>\n"
   ]
  },
  {
   "cell_type": "code",
   "execution_count": 98,
   "metadata": {},
   "outputs": [],
   "source": [
    "class NgramGrapher():\n",
    "    \"\"\"\n",
    "    A class used to transform a corpus given as a numpy array into a graph form of the\n",
    "    n-gram representation.\n",
    "\n",
    "    ...\n",
    "\n",
    "    Attributes\n",
    "    ----------\n",
    "    Graph : nx.Graph\n",
    "        The Graph Representation of The Ngram Input.\n",
    "    N_nodes : int\n",
    "        Number of Nodes in Graph.\n",
    "    N_edges : int\n",
    "        Number of Edges in Graph.\n",
    "    In_Max_Deg : int\n",
    "        Maximum In Degree in Graph.\n",
    "    Out_Max_Deg : int\n",
    "        Maximum Out Degree in Graph.\n",
    "    In_Min_Deg : int\n",
    "        Minimum In Degree in Graph.\n",
    "    Out_Min_Deg : int\n",
    "        Minimum Out Degree in Graph.\n",
    "\n",
    "    Methods\n",
    "    -------\n",
    "    Example_Method(arg=None)\n",
    "        Add info\n",
    "    \"\"\"\n",
    "    def __init__(self,data,n=2):\n",
    "        tokenized_text    = ' '.join(data).split()\n",
    "        ngram             = ngrams(tokenized_text,n=n)\n",
    "        ngram             = list(ngram)\n",
    "        \n",
    "        n_frequencies      = nltk.FreqDist(ngram)\n",
    "        edges              = list(dict(n_frequencies).keys())\n",
    "        nodes              = np.unique(np.array(edges).flatten())\n",
    "\n",
    "        self.Graph = nx.DiGraph()\n",
    "        self.Graph.add_nodes_from(nodes)\n",
    "        for x,y in edges:\n",
    "            self.Graph.add_edge(x,y,value=n_frequencies[(x,y)])        \n",
    "        \n",
    "        \n",
    "        #Graph Attributes\n",
    "        self.N_nodes       = len(nodes)\n",
    "        self.N_edges       = len(edges)\n",
    "        self.In_Max_Deg    = max(dict(self.Graph.in_degree).values())\n",
    "        self.Out_Max_Deg   = max(dict(self.Graph.out_degree).values())\n",
    "        self.In_Min_Deg    = min(dict(self.Graph.in_degree).values())\n",
    "        self.Out_Min_Deg   = min(dict(self.Graph.out_degree).values())\n",
    "        self.Chromatic_N   = nx.algorithms.coloring.greedy_color(self.Graph)\n",
    "        \n",
    "        pos = nx.spiral_layout(self.Graph,resolution =3.5)\n",
    "        #pos = nx.drawing.nx_pydot.graphviz_layout(self.Graph)\n",
    "        \n",
    "\n",
    "    def Viz_Graph(self,notebook=False,height=500,width=900,directed=False):\n",
    "        nt = Network(f'{height}px', f'{width}px',notebook=notebook,directed=directed)\n",
    "        nt.set_options(\n",
    "            'var options = { \"physics\": {\"forceAtlas2Based\": {\"gravitationalConstant\": -230,\"springLength\": 170,\\\n",
    "              \"springConstant\": 0,\\\n",
    "              \"avoidOverlap\": 1\\\n",
    "            },\\\n",
    "            \"minVelocity\": 0.75,\\\n",
    "            \"solver\": \"forceAtlas2Based\",\\\n",
    "            \"timestep\": 1\\\n",
    "          }\\\n",
    "        }\\\n",
    "        ')\n",
    "        nt.from_nx(self.Graph)\n",
    "        #nt.show_buttons(filter_=['physics'])\n",
    "        nt.prep_notebook()\n",
    "        return nt.show('nx.html')\n",
    "\n",
    "    "
   ]
  },
  {
   "cell_type": "code",
   "execution_count": 183,
   "metadata": {
    "scrolled": true
   },
   "outputs": [],
   "source": [
    "from wordcloud import STOPWORDS\n",
    "from string import punctuation\n",
    "punctuation = punctuation + '“’‛‘”‹›»«'\n",
    "example_corpus = pd.read_csv('LYRICS_DATASET.csv')['Lyrics'].dropna()\n",
    "example_corpus = example_corpus.apply(lambda _z: ' '.join([word.lower() for word in _z.split() if word not in ' '.join(punctuation).split() and word not in STOPWORDS]))\n",
    "example_corpus = example_corpus.apply(lambda _z: ''.join([''.join(char) for word in _z for char in word if char not in ' '.join(punctuation).split()]))\n",
    "Bigraph = NgramGrapher(example_corpus)"
   ]
  },
  {
   "cell_type": "code",
   "execution_count": null,
   "metadata": {},
   "outputs": [],
   "source": []
  },
  {
   "cell_type": "code",
   "execution_count": 184,
   "metadata": {},
   "outputs": [
    {
     "data": {
      "text/html": [
       "<div>\n",
       "<style scoped>\n",
       "    .dataframe tbody tr th:only-of-type {\n",
       "        vertical-align: middle;\n",
       "    }\n",
       "\n",
       "    .dataframe tbody tr th {\n",
       "        vertical-align: top;\n",
       "    }\n",
       "\n",
       "    .dataframe thead th {\n",
       "        text-align: right;\n",
       "    }\n",
       "</style>\n",
       "<table border=\"1\" class=\"dataframe\">\n",
       "  <thead>\n",
       "    <tr style=\"text-align: right;\">\n",
       "      <th></th>\n",
       "      <th>color</th>\n",
       "      <th>word</th>\n",
       "      <th>Word Length</th>\n",
       "    </tr>\n",
       "  </thead>\n",
       "  <tbody>\n",
       "    <tr>\n",
       "      <th>60</th>\n",
       "      <td>10</td>\n",
       "      <td>around</td>\n",
       "      <td>6</td>\n",
       "    </tr>\n",
       "    <tr>\n",
       "      <th>67</th>\n",
       "      <td>10</td>\n",
       "      <td>leave</td>\n",
       "      <td>5</td>\n",
       "    </tr>\n",
       "    <tr>\n",
       "      <th>69</th>\n",
       "      <td>10</td>\n",
       "      <td>long</td>\n",
       "      <td>4</td>\n",
       "    </tr>\n",
       "    <tr>\n",
       "      <th>74</th>\n",
       "      <td>10</td>\n",
       "      <td>find</td>\n",
       "      <td>4</td>\n",
       "    </tr>\n",
       "    <tr>\n",
       "      <th>78</th>\n",
       "      <td>10</td>\n",
       "      <td>yeah</td>\n",
       "      <td>4</td>\n",
       "    </tr>\n",
       "    <tr>\n",
       "      <th>80</th>\n",
       "      <td>11</td>\n",
       "      <td>things</td>\n",
       "      <td>6</td>\n",
       "    </tr>\n",
       "    <tr>\n",
       "      <th>106</th>\n",
       "      <td>12</td>\n",
       "      <td>going</td>\n",
       "      <td>5</td>\n",
       "    </tr>\n",
       "    <tr>\n",
       "      <th>111</th>\n",
       "      <td>11</td>\n",
       "      <td>came</td>\n",
       "      <td>4</td>\n",
       "    </tr>\n",
       "    <tr>\n",
       "      <th>175</th>\n",
       "      <td>10</td>\n",
       "      <td>used</td>\n",
       "      <td>4</td>\n",
       "    </tr>\n",
       "    <tr>\n",
       "      <th>203</th>\n",
       "      <td>10</td>\n",
       "      <td>forget</td>\n",
       "      <td>6</td>\n",
       "    </tr>\n",
       "  </tbody>\n",
       "</table>\n",
       "</div>"
      ],
      "text/plain": [
       "    color    word  Word Length\n",
       "60     10  around            6\n",
       "67     10   leave            5\n",
       "69     10    long            4\n",
       "74     10    find            4\n",
       "78     10    yeah            4\n",
       "80     11  things            6\n",
       "106    12   going            5\n",
       "111    11    came            4\n",
       "175    10    used            4\n",
       "203    10  forget            6"
      ]
     },
     "execution_count": 184,
     "metadata": {},
     "output_type": "execute_result"
    }
   ],
   "source": [
    "c_df = pd.DataFrame([Bigraph.Chromatic_N.values(),Bigraph.Chromatic_N.keys()]).T \n",
    "c_df = c_df.rename(columns = {0:'color',1:'word'})\n",
    "c_df['Word Length'] = c_df['word'].apply(lambda _z: len(_z))\n",
    "c_df.query('color == 10 or color == 11 or color == 12')"
   ]
  },
  {
   "cell_type": "code",
   "execution_count": 185,
   "metadata": {},
   "outputs": [
    {
     "data": {
      "text/plain": [
       "<AxesSubplot:>"
      ]
     },
     "execution_count": 185,
     "metadata": {},
     "output_type": "execute_result"
    },
    {
     "data": {
      "image/png": "[encoded data removed]",
      "text/plain": [
       "<Figure size 432x288 with 1 Axes>"
      ]
     },
     "metadata": {
      "needs_background": "light"
     },
     "output_type": "display_data"
    }
   ],
   "source": [
    "c_df['color'].value_counts().plot(kind='bar')"
   ]
  },
  {
   "cell_type": "code",
   "execution_count": 187,
   "metadata": {},
   "outputs": [
    {
     "name": "stderr",
     "output_type": "stream",
     "text": [
      "C:\\Users\\Matan\\anaconda3\\lib\\site-packages\\tqdm\\std.py:697: FutureWarning: The Panel class is removed from pandas. Accessing it from the top-level namespace will also be removed in the next version\n",
      "  from pandas import Panel\n"
     ]
    },
    {
     "data": {
      "application/vnd.jupyter.widget-view+json": {
       "model_id": "24b305951a6c4abaa6cd0f7dec5a43e2",
       "version_major": 2,
       "version_minor": 0
      },
      "text/plain": [
       "HBox(children=(HTML(value=''), FloatProgress(value=0.0, max=5990.0), HTML(value='')))"
      ]
     },
     "metadata": {},
     "output_type": "display_data"
    },
    {
     "name": "stdout",
     "output_type": "stream",
     "text": [
      "\n"
     ]
    }
   ],
   "source": [
    "from tqdm.notebook import tqdm\n",
    "tqdm.pandas()\n",
    "\n",
    "c_df['Part of speech'] = c_df['word'].progress_apply(lambda x: nlps(str(x))[0].pos_)"
   ]
  },
  {
   "cell_type": "code",
   "execution_count": 195,
   "metadata": {},
   "outputs": [],
   "source": [
    "c_df['Part of speech'] = c_df['Part of speech'].astype('category').cat.codes"
   ]
  },
  {
   "cell_type": "code",
   "execution_count": 210,
   "metadata": {},
   "outputs": [
    {
     "data": {
      "text/plain": [
       "<AxesSubplot:xlabel='color', ylabel='Count'>"
      ]
     },
     "execution_count": 210,
     "metadata": {},
     "output_type": "execute_result"
    },
    {
     "data": {
      "image/png": "[encoded data removed]",
      "text/plain": [
       "<Figure size 432x288 with 1 Axes>"
      ]
     },
     "metadata": {
      "needs_background": "light"
     },
     "output_type": "display_data"
    }
   ],
   "source": [
    "sns.histplot(data = c_df, hue='Part of speech',x='color',palette='hsv')"
   ]
  },
  {
   "cell_type": "code",
   "execution_count": 214,
   "metadata": {},
   "outputs": [
    {
     "data": {
      "text/plain": [
       "7     17\n",
       "15    12\n",
       "0      5\n",
       "6      3\n",
       "2      2\n",
       "10     1\n",
       "4      1\n",
       "Name: Part of speech, dtype: int64"
      ]
     },
     "execution_count": 214,
     "metadata": {},
     "output_type": "execute_result"
    }
   ],
   "source": [
    "c_df.query('color ==6')['Part of speech'].value_counts()"
   ]
  },
  {
   "cell_type": "code",
   "execution_count": 208,
   "metadata": {},
   "outputs": [
    {
     "data": {
      "text/plain": [
       "<AxesSubplot:xlabel='Part of speech', ylabel='Count'>"
      ]
     },
     "execution_count": 208,
     "metadata": {},
     "output_type": "execute_result"
    },
    {
     "data": {
      "image/png": "[encoded data removed]",
      "text/plain": [
       "<Figure size 432x288 with 1 Axes>"
      ]
     },
     "metadata": {
      "needs_background": "light"
     },
     "output_type": "display_data"
    }
   ],
   "source": [
    "sns.histplot(data = c_df, x='Part of speech')"
   ]
  },
  {
   "cell_type": "code",
   "execution_count": 1,
   "metadata": {},
   "outputs": [],
   "source": [
    "#Bigraph.Viz_Graph(notebook=True,directed=True)"
   ]
  },
  {
   "cell_type": "code",
   "execution_count": 105,
   "metadata": {},
   "outputs": [
    {
     "data": {
      "text/plain": [
       "2"
      ]
     },
     "execution_count": 105,
     "metadata": {},
     "output_type": "execute_result"
    }
   ],
   "source": [
    "Bigraph.Graph.out_degree['asked']"
   ]
  },
  {
   "cell_type": "code",
   "execution_count": 103,
   "metadata": {},
   "outputs": [
    {
     "name": "stdout",
     "output_type": "stream",
     "text": [
      "special\n"
     ]
    }
   ],
   "source": [
    "#['asked']\n",
    "d = {f'{y}{i}':x for i, (x, y) in enumerate(list(Bigraph.Graph.out_edges()))}\n",
    "import re\n",
    "keys = ' '.join(list(d.keys()))\n",
    "keys = re.findall(r'agent[0-9]*',keys)\n",
    "keys\n",
    "print(d['agent716'])"
   ]
  },
  {
   "cell_type": "markdown",
   "metadata": {},
   "source": [
    "<h3 style=\"background-color:skyblue;font-family:newtimeroman;font-size:250%;text-align:center;border-radius: 15px 50px;\">Graph Attribute Exploration</h3>\n"
   ]
  },
  {
   "cell_type": "markdown",
   "metadata": {},
   "source": [
    "<h3 style=\"background-color:salmon;font-family:newtimeroman;font-size:200%;text-align:center;border-radius: 15px 50px;\">Chromatic Number</h3>\n"
   ]
  },
  {
   "cell_type": "code",
   "execution_count": null,
   "metadata": {},
   "outputs": [],
   "source": []
  },
  {
   "cell_type": "markdown",
   "metadata": {},
   "source": [
    "<h3 style=\"background-color:salmon;font-family:newtimeroman;font-size:200%;text-align:center;border-radius: 15px 50px;\">Min/Max Degrees</h3>\n"
   ]
  },
  {
   "cell_type": "code",
   "execution_count": null,
   "metadata": {},
   "outputs": [],
   "source": []
  },
  {
   "cell_type": "markdown",
   "metadata": {},
   "source": [
    "<h3 style=\"background-color:salmon;font-family:newtimeroman;font-size:200%;text-align:center;border-radius: 15px 50px;\">Hamiltonian Cycles/Paths</h3>\n"
   ]
  },
  {
   "cell_type": "code",
   "execution_count": null,
   "metadata": {},
   "outputs": [],
   "source": []
  },
  {
   "cell_type": "markdown",
   "metadata": {},
   "source": [
    "<h3 style=\"background-color:salmon;font-family:newtimeroman;font-size:200%;text-align:center;border-radius: 15px 50px;\">Euler Cycles/Paths</h3>\n"
   ]
  },
  {
   "cell_type": "code",
   "execution_count": null,
   "metadata": {},
   "outputs": [],
   "source": []
  },
  {
   "cell_type": "markdown",
   "metadata": {},
   "source": [
    "<h3 style=\"background-color:salmon;font-family:newtimeroman;font-size:200%;text-align:center;border-radius: 15px 50px;\">Max Clique</h3>\n"
   ]
  },
  {
   "cell_type": "code",
   "execution_count": null,
   "metadata": {},
   "outputs": [],
   "source": []
  },
  {
   "cell_type": "markdown",
   "metadata": {},
   "source": [
    "<h3 style=\"background-color:salmon;font-family:newtimeroman;font-size:200%;text-align:center;border-radius: 15px 50px;\">Max Independent Set</h3>\n"
   ]
  },
  {
   "cell_type": "code",
   "execution_count": null,
   "metadata": {},
   "outputs": [],
   "source": []
  },
  {
   "cell_type": "markdown",
   "metadata": {},
   "source": [
    "<h3 style=\"background-color:salmon;font-family:newtimeroman;font-size:200%;text-align:center;border-radius: 15px 50px;\">Density of Nodes - Regions of High Density</h3>\n"
   ]
  },
  {
   "cell_type": "code",
   "execution_count": null,
   "metadata": {},
   "outputs": [],
   "source": []
  },
  {
   "cell_type": "markdown",
   "metadata": {},
   "source": [
    "<h3 style=\"background-color:salmon;font-family:newtimeroman;font-size:200%;text-align:center;border-radius: 15px 50px;\">Design A Clustring Algorithms Based on The Graph</h3>\n"
   ]
  },
  {
   "cell_type": "code",
   "execution_count": 2,
   "metadata": {},
   "outputs": [],
   "source": [
    "# Using some arbitrary alpha value we decide how far can we walk from a -\n",
    "#spesific node in terms of the edge weights using dikstra for example"
   ]
  },
  {
   "cell_type": "code",
   "execution_count": null,
   "metadata": {},
   "outputs": [],
   "source": []
  }
 ],
 "metadata": {
  "kernelspec": {
   "display_name": "Python 3",
   "language": "python",
   "name": "python3"
  },
  "language_info": {
   "codemirror_mode": {
    "name": "ipython",
    "version": 3
   },
   "file_extension": ".py",
   "mimetype": "text/x-python",
   "name": "python",
   "nbconvert_exporter": "python",
   "pygments_lexer": "ipython3",
   "version": "3.8.5"
  }
 },
 "nbformat": 4,
 "nbformat_minor": 5
}
