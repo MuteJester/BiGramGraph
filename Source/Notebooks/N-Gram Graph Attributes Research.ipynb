{
 "cells": [
  {
   "cell_type": "markdown",
   "metadata": {},
   "source": [
    "<h3 style=\"background-color:skyblue;font-family:newtimeroman;font-size:250%;text-align:center;border-radius: 15px 50px;\">Libraries and Utilities</h3>\n"
   ]
  },
  {
   "cell_type": "code",
   "execution_count": 1,
   "metadata": {},
   "outputs": [],
   "source": [
    "import numpy             as np\n",
    "import pandas            as pd\n",
    "import matplotlib.pyplot as plt\n",
    "import networkx          as nx\n",
    "import seaborn           as sns\n",
    "from nltk                import ngrams\n",
    "from pyvis.network       import Network\n",
    "import os\n",
    "import re\n",
    "import nltk\n",
    "import pydot\n",
    "import spacy as sp\n",
    "from wordcloud import WordCloud\n",
    "from tqdm.notebook import tqdm\n",
    "\n",
    "\n",
    "nlps = sp.load('en_core_web_sm')"
   ]
  },
  {
   "cell_type": "code",
   "execution_count": 2,
   "metadata": {
    "tags": []
   },
   "outputs": [],
   "source": [
    "class BiGramGraph:\n",
    "    \"\"\"\n",
    "    A class used to transform a corpus given as a numpy array into a graph form of the\n",
    "    2-gram representation.\n",
    "\n",
    "    ...\n",
    "\n",
    "    Attributes\n",
    "    ----------\n",
    "    Graph : nx.Graph\n",
    "        The Graph Representation of The Ngram Input.\n",
    "    N_nodes : int\n",
    "        Number of Nodes in Graph.\n",
    "    N_edges : int\n",
    "        Number of Edges in Graph.\n",
    "    In_Max_Deg : int\n",
    "        Maximum In Degree in Graph.\n",
    "    Out_Max_Deg : int\n",
    "        Maximum Out Degree in Graph.\n",
    "    In_Min_Deg : int\n",
    "        Minimum In Degree in Graph.\n",
    "    Out_Min_Deg : int\n",
    "        Minimum Out Degree in Graph.\n",
    "\n",
    "    Methods\n",
    "    -------\n",
    "    Example_Method(arg=None)\n",
    "        Add info\n",
    "    \"\"\"\n",
    "\n",
    "    def __init__(self, data, notebook=False):\n",
    "        if not notebook:\n",
    "            from tqdm import tqdm\n",
    "            tqdm.pandas()\n",
    "        else:\n",
    "            from tqdm.notebook import tqdm\n",
    "            tqdm.pandas()\n",
    "\n",
    "        n = 2\n",
    "        tokenized_text = ' '.join(data).split()\n",
    "        ngram = ngrams(tokenized_text, n=n)\n",
    "        ngram = list(ngram)\n",
    "\n",
    "        n_frequencies = nltk.FreqDist(ngram)\n",
    "        edges = list(dict(n_frequencies).keys())\n",
    "        nodes = np.unique(np.array(edges).flatten())\n",
    "        self.Graph = nx.DiGraph()\n",
    "        self.Graph.add_nodes_from(nodes)\n",
    "        for x, y in edges:\n",
    "            self.Graph.add_edge(x, y, value=n_frequencies[(x, y)])\n",
    "\n",
    "            # Graph Attributes\n",
    "        self.N_nodes = len(nodes)\n",
    "        self.N_edges = len(edges)\n",
    "        self.In_Max_Deg = max(dict(self.Graph.in_degree).values())\n",
    "        self.Out_Max_Deg = max(dict(self.Graph.out_degree).values())\n",
    "        self.In_Min_Deg = min(dict(self.Graph.in_degree).values())\n",
    "        self.Out_Min_Deg = min(dict(self.Graph.out_degree).values())\n",
    "        self._nlp = None\n",
    "        self.Data = nx.algorithms.coloring.greedy_color(self.Graph)\n",
    "        self.Data = pd.DataFrame([self.Data.values(),\n",
    "                                  self.Data.keys()]).T.rename(columns={0: 'color', 1: 'word'})\n",
    "\n",
    "        self.Edges = pd.DataFrame(edges, columns=['in', 'out'])\n",
    "        self.Edges['weight'] = self.Edges.apply(lambda _z: n_frequencies[(_z['in'], _z['out'])], axis=1)\n",
    "\n",
    "    def add_part_of_speech(self):\n",
    "        import spacy as sp\n",
    "        self._nlp = sp.load('en_core_web_sm')\n",
    "        self.Data['pos'] = self.Data['word'].progress_apply(lambda _z: self._nlp(str(_z))[0].pos_)\n",
    "\n",
    "    def get_Xi(self) -> int:\n",
    "        \"\"\"\n",
    "        :return: The chromatic number of the graph.\n",
    "        \"\"\"\n",
    "        return self.Data['color'].max() + 1\n",
    "    \n",
    "    def is_DAG(self):\n",
    "        return nx.algorithms.dag.is_directed_acyclic_graph(self.Graph)\n",
    "    def get_Diameter(self):\n",
    "        return nx.algorithms.distance_measures.diameter(self.Graph)\n",
    "    \n",
    "    def get_Min_Edge_Cover(self):\n",
    "        return nx.algorithms.covering.min_edge_cover(self.Graph)\n",
    "    \n",
    "    def get_Shortest_Simple_Path(self,start_node,end_node):\n",
    "        return nx.algorithms.simple_paths.shortest_simple_paths(self.Graph,source=start_node,target=end_node)\n",
    "    \n",
    "    def get_Eulerian(self):\n",
    "        if nx.is_eulerian(self.Graph):\n",
    "            return nx.eulerian_circuit()(self.Graph)\n",
    "        else:\n",
    "            return 'Not Eulerian'\n",
    "        \n",
    "    def get_Volume(self,S):\n",
    "        return nx.algorithms.cuts.volume(self.Graph,S)\n",
    "        \n",
    "    def get_Eulerian_Path(self):\n",
    "        return nx.eulerian_path(self.Graph) if nx.has_eulerian_path(self.Graph) else \"Graph Has No Eulerian Path\"\n",
    "        \n",
    "    def get_Cycle(self,start_node):\n",
    "        return nx.algorithms.cycles.find_cycle(self.Graph,start_node)\n",
    "    \n",
    "    def get_All_Unique_Cycles(self):\n",
    "        hash_list = []\n",
    "        unique_cycle = []\n",
    "        for i in tqdm(range(11857)):\n",
    "            cyclye = self.get_Cycle(Bigraph.Data.word[i])\n",
    "            c_hash = hash(str(self.get_Cycle(self.Data.word[i])))\n",
    "            if c_hash not in hash_list:\n",
    "                hash_list.append(c_hash)\n",
    "                unique_cycle.append(cyclye)\n",
    "        return unique_cycle\n",
    "    def get_All_Simple_Cycles(self):\n",
    "        return nx.algorithms.cycles.simple_cycles(self.Graph)\n",
    "    \n",
    "    def is_Strongly_Connected(self):\n",
    "        return nx.algorithms.components.is_strongly_connected(self.Graph)\n",
    "    def get_Number_Strongly_Connected_Components(self):\n",
    "        return nx.algorithms.components.number_strongly_connected_components(self.Graph)\n",
    "    def get_Strongly_Connected_Components(self):\n",
    "        return nx.algorithms.components.strongly_connected_components(self.Graph)\n",
    "            \n",
    "\n",
    "    def __repr__(self):\n",
    "        n = self.N_nodes\n",
    "        e = self.N_edges\n",
    "        xi = self.get_Xi()\n",
    "        return f'Number of words included: {n}\\nNumber of edges included: {e}\\nChromatic number: {xi}\\n'\n",
    "\n",
    "    def __getitem__(self, item) -> dict:\n",
    "        return dict()\n",
    "\n",
    "    def vectorize(self, string, method='chromatic'):\n",
    "        if method == 'chromatic':\n",
    "            tokens = string.split(' ')\n",
    "            vec_form = []\n",
    "            for tok in tokens:\n",
    "                if tok not in self.Data.word.values:\n",
    "                    continue\n",
    "                vec_form.append(self.Data.query(f'word == \"{tok}\"')['color'].values[0])\n",
    "            return vec_form\n",
    "        else:\n",
    "            raise NameError('Bad Method')\n",
    "\n",
    "    def Viz_Graph(self, notebook=False, height=500, width=900, directed=False):\n",
    "        nt = Network(f'{height}px', f'{width}px', notebook=notebook, directed=directed)\n",
    "        nt.set_options(\n",
    "            'var options = { \"physics\": {\"forceAtlas2Based\": {\"gravitationalConstant\": -230,\"springLength\": 170,\\\n",
    "              \"springConstant\": 0,\\\n",
    "              \"avoidOverlap\": 1\\\n",
    "            },\\\n",
    "            \"minVelocity\": 0.75,\\\n",
    "            \"solver\": \"forceAtlas2Based\",\\\n",
    "            \"timestep\": 1\\\n",
    "          }\\\n",
    "        }\\\n",
    "        ')\n",
    "        nt.from_nx(self.Graph)\n",
    "        # nt.show_buttons(filter_=['physics'])\n",
    "        nt.prep_notebook()\n",
    "        return nt.show('nx.html')\n"
   ]
  },
  {
   "cell_type": "code",
   "execution_count": 40,
   "metadata": {},
   "outputs": [],
   "source": [
    "#Utils\n",
    "\n",
    "def calculate_path_weight(Graph,path):\n",
    "    weight = 0\n",
    "    start = path[0]\n",
    "    for i in path[1:]:\n",
    "        weight += Graph.Edges[(Graph.Edges['in'] == start[0])&(Graph.Edges.out == i[0])].weight.values[0]\n",
    "        start =i\n",
    "    return weight\n",
    "\n",
    "def calculate_cycle_density(Graph,cycle):\n",
    "    weight = 0\n",
    "    for i in cycle:\n",
    "        weight += np.sqrt(Graph.Graph.out_degree(i[0])+Graph.Graph.in_degree(i[0]))\n",
    "    return weight    \n",
    "\n",
    "def calculate_path_density(Graph,path):\n",
    "    weight = 0\n",
    "    for i in path:\n",
    "        IN  = Graph.Graph.out_degree(i[0])\n",
    "        OUT = Graph.Graph.in_degree(i[0])\n",
    "        if type(IN)!=int:\n",
    "            weight += np.sqrt(OUT)\n",
    "        elif type(OUT) != int:\n",
    "            weight += np.sqrt(IN)\n",
    "        else:\n",
    "            weight+= np.sqrt(IN+OUT)\n",
    "    return weight \n",
    "    "
   ]
  },
  {
   "cell_type": "markdown",
   "metadata": {},
   "source": [
    "<h3 style=\"background-color:skyblue;font-family:newtimeroman;font-size:250%;text-align:center;border-radius: 15px 50px;\">Graph Attribute Exploration</h3>\n"
   ]
  },
  {
   "cell_type": "markdown",
   "metadata": {},
   "source": [
    "<h3 style=\"background-color:salmon;font-family:newtimeroman;font-size:200%;text-align:center;border-radius: 15px 50px;\">Chromatic Number</h3>\n"
   ]
  },
  {
   "cell_type": "markdown",
   "metadata": {
    "tags": []
   },
   "source": [
    " \n",
    "<h3 style=\"background-color:green;font-family:newtimeroman;font-size:200%;text-align:center;border-radius: 15px 50px;\">Lyrics Dataset</h3>\n"
   ]
  },
  {
   "cell_type": "code",
   "execution_count": 5,
   "metadata": {
    "tags": []
   },
   "outputs": [
    {
     "name": "stderr",
     "output_type": "stream",
     "text": [
      "C:\\Users\\tomas\\anaconda3\\lib\\site-packages\\tqdm\\std.py:658: FutureWarning: The Panel class is removed from pandas. Accessing it from the top-level namespace will also be removed in the next version\n",
      "  from pandas import Panel\n"
     ]
    }
   ],
   "source": [
    "from wordcloud import STOPWORDS\n",
    "from string import punctuation\n",
    "punctuation = punctuation + '“’‛‘”‹›»«–—'\n",
    "example_corpus = pd.read_csv('LYRICS_DATASET.csv')['Lyrics'].dropna()\n",
    "example_corpus = example_corpus.apply(lambda _z: ' '.join([word.lower() for word in _z.split() if word not in ' '.join(punctuation).split() and word not in STOPWORDS]))\n",
    "example_corpus = example_corpus.apply(lambda _z: ''.join([''.join(char) for word in _z for char in word if char not in ' '.join(punctuation).split()]))\n",
    "Bigraph = BiGramGraph(example_corpus,notebook=True)"
   ]
  },
  {
   "cell_type": "code",
   "execution_count": 6,
   "metadata": {
    "tags": []
   },
   "outputs": [
    {
     "name": "stdout",
     "output_type": "stream",
     "text": [
      "Chromatic Number of G  12\n"
     ]
    }
   ],
   "source": [
    "print(\"Chromatic Number of G \",Bigraph.get_Xi())"
   ]
  },
  {
   "cell_type": "code",
   "execution_count": 7,
   "metadata": {
    "tags": []
   },
   "outputs": [
    {
     "data": {
      "image/png": "[encoded data removed]",
      "text/plain": [
       "<Figure size 432x288 with 1 Axes>"
      ]
     },
     "metadata": {
      "needs_background": "light"
     },
     "output_type": "display_data"
    }
   ],
   "source": [
    "plt.title('Distribution of Color Tags')\n",
    "sns.countplot(x=Bigraph.Data.color)\n",
    "plt.show()"
   ]
  },
  {
   "cell_type": "code",
   "execution_count": 7,
   "metadata": {
    "tags": []
   },
   "outputs": [
    {
     "data": {
      "text/plain": [
       "'\\nQuestion 1) Are there any connections between low count colors\\nQuestion 2) Low dimnesion representation of chromatic vector\\nQuestion 3) Is there any connection between part of speech and chromatic number\\nQuestion 4) \\n'"
      ]
     },
     "execution_count": 7,
     "metadata": {},
     "output_type": "execute_result"
    }
   ],
   "source": [
    "'''\n",
    "Question 1) Are there any connections between low count colors\n",
    "Question 2) Low dimnesion representation of chromatic vector\n",
    "Question 3) Is there any connection between part of speech and chromatic number\n",
    "Question 4) \n",
    "'''"
   ]
  },
  {
   "cell_type": "code",
   "execution_count": 8,
   "metadata": {
    "tags": []
   },
   "outputs": [
    {
     "data": {
      "application/vnd.jupyter.widget-view+json": {
       "model_id": "d0265bb2c1cd43b7b5899c7c1415f3db",
       "version_major": 2,
       "version_minor": 0
      },
      "text/plain": [
       "HBox(children=(FloatProgress(value=0.0, max=5984.0), HTML(value='')))"
      ]
     },
     "metadata": {},
     "output_type": "display_data"
    },
    {
     "name": "stdout",
     "output_type": "stream",
     "text": [
      "\n"
     ]
    }
   ],
   "source": [
    "Bigraph.add_part_of_speech()"
   ]
  },
  {
   "cell_type": "code",
   "execution_count": 9,
   "metadata": {
    "tags": []
   },
   "outputs": [
    {
     "data": {
      "text/html": [
       "<div>\n",
       "<style scoped>\n",
       "    .dataframe tbody tr th:only-of-type {\n",
       "        vertical-align: middle;\n",
       "    }\n",
       "\n",
       "    .dataframe tbody tr th {\n",
       "        vertical-align: top;\n",
       "    }\n",
       "\n",
       "    .dataframe thead th {\n",
       "        text-align: right;\n",
       "    }\n",
       "</style>\n",
       "<table border=\"1\" class=\"dataframe\">\n",
       "  <thead>\n",
       "    <tr style=\"text-align: right;\">\n",
       "      <th></th>\n",
       "      <th>color</th>\n",
       "      <th>word</th>\n",
       "      <th>pos</th>\n",
       "    </tr>\n",
       "  </thead>\n",
       "  <tbody>\n",
       "    <tr>\n",
       "      <th>0</th>\n",
       "      <td>0</td>\n",
       "      <td>i</td>\n",
       "      <td>PRON</td>\n",
       "    </tr>\n",
       "    <tr>\n",
       "      <th>1</th>\n",
       "      <td>1</td>\n",
       "      <td>and</td>\n",
       "      <td>CCONJ</td>\n",
       "    </tr>\n",
       "    <tr>\n",
       "      <th>2</th>\n",
       "      <td>1</td>\n",
       "      <td>im</td>\n",
       "      <td>PRON</td>\n",
       "    </tr>\n",
       "    <tr>\n",
       "      <th>7</th>\n",
       "      <td>0</td>\n",
       "      <td>the</td>\n",
       "      <td>DET</td>\n",
       "    </tr>\n",
       "    <tr>\n",
       "      <th>13</th>\n",
       "      <td>1</td>\n",
       "      <td>ill</td>\n",
       "      <td>PROPN</td>\n",
       "    </tr>\n",
       "    <tr>\n",
       "      <th>...</th>\n",
       "      <td>...</td>\n",
       "      <td>...</td>\n",
       "      <td>...</td>\n",
       "    </tr>\n",
       "    <tr>\n",
       "      <th>5979</th>\n",
       "      <td>1</td>\n",
       "      <td>¡wuh</td>\n",
       "      <td>PROPN</td>\n",
       "    </tr>\n",
       "    <tr>\n",
       "      <th>5980</th>\n",
       "      <td>0</td>\n",
       "      <td>£2</td>\n",
       "      <td>SYM</td>\n",
       "    </tr>\n",
       "    <tr>\n",
       "      <th>5981</th>\n",
       "      <td>0</td>\n",
       "      <td>ﬁnance</td>\n",
       "      <td>PROPN</td>\n",
       "    </tr>\n",
       "    <tr>\n",
       "      <th>5982</th>\n",
       "      <td>0</td>\n",
       "      <td>ﬁnd</td>\n",
       "      <td>PROPN</td>\n",
       "    </tr>\n",
       "    <tr>\n",
       "      <th>5983</th>\n",
       "      <td>1</td>\n",
       "      <td>ﬁnding</td>\n",
       "      <td>VERB</td>\n",
       "    </tr>\n",
       "  </tbody>\n",
       "</table>\n",
       "<p>5214 rows × 3 columns</p>\n",
       "</div>"
      ],
      "text/plain": [
       "     color    word    pos\n",
       "0        0       i   PRON\n",
       "1        1     and  CCONJ\n",
       "2        1      im   PRON\n",
       "7        0     the    DET\n",
       "13       1     ill  PROPN\n",
       "...    ...     ...    ...\n",
       "5979     1    ¡wuh  PROPN\n",
       "5980     0      £2    SYM\n",
       "5981     0  ﬁnance  PROPN\n",
       "5982     0     ﬁnd  PROPN\n",
       "5983     1  ﬁnding   VERB\n",
       "\n",
       "[5214 rows x 3 columns]"
      ]
     },
     "execution_count": 9,
     "metadata": {},
     "output_type": "execute_result"
    }
   ],
   "source": [
    "threshold = np.round(Bigraph.Data.color.value_counts().max()*0.2)\n",
    "color_counts = Bigraph.Data.color.value_counts()\n",
    "rare_color_counts = color_counts[color_counts<threshold]\n",
    "common_color_counts = color_counts[color_counts>threshold]\n",
    "\n",
    "query = ' '.join(f'color == {i} or' for i in rare_color_counts.index)\n",
    "query = query[:-3]\n",
    "rare_under_testing = Bigraph.Data.query(query)\n",
    "rare_under_testing\n",
    "\n",
    "query = ' '.join(f'color == {i} or' for i in common_color_counts.index)\n",
    "query = query[:-3]\n",
    "common_under_testing = Bigraph.Data.query(query)\n",
    "common_under_testing"
   ]
  },
  {
   "cell_type": "code",
   "execution_count": 312,
   "metadata": {
    "scrolled": true,
    "tags": []
   },
   "outputs": [
    {
     "data": {
      "image/png": "[encoded data removed]",
      "text/plain": [
       "<Figure size 1080x360 with 2 Axes>"
      ]
     },
     "metadata": {
      "needs_background": "light"
     },
     "output_type": "display_data"
    }
   ],
   "source": [
    "plt.figure(figsize=(15,5))\n",
    "plt.subplot(2,1,1)\n",
    "plt.title('Rare Color Tagged Words')\n",
    "ax=sns.countplot(rare_under_testing.pos,order=rare_under_testing.pos.value_counts().index)\n",
    "ax.set_xticklabels(ax.get_xticklabels(),rotation=90)\n",
    "plt.subplot(2,1,2)\n",
    "plt.title('Common Color Tagged Words')\n",
    "ax=sns.countplot(common_under_testing.pos,order=rare_under_testing.pos.value_counts().index)\n",
    "ax.set_xticklabels(ax.get_xticklabels(),rotation=90)\n",
    "plt.tight_layout()\n",
    "plt.show()"
   ]
  },
  {
   "cell_type": "code",
   "execution_count": 10,
   "metadata": {
    "tags": []
   },
   "outputs": [
    {
     "data": {
      "image/png": "[encoded data removed]",
      "text/plain": [
       "<Figure size 432x288 with 1 Axes>"
      ]
     },
     "metadata": {
      "needs_background": "light"
     },
     "output_type": "display_data"
    }
   ],
   "source": [
    "# Claculating Text Variance\n",
    "from sklearn.decomposition import PCA,TruncatedSVD\n",
    "from sklearn.feature_extraction.text import CountVectorizer\n",
    "from sklearn.pipeline import Pipeline\n",
    "\n",
    "N = 100\n",
    "CV=CountVectorizer()\n",
    "pca = TruncatedSVD(N)\n",
    "pca.fit(CV.fit_transform(example_corpus).todense())\n",
    "\n",
    "explained_var = pca.explained_variance_ratio_\n",
    "\n",
    "plt.title(f'Song Lyrics Explained Varince of {N} Words')\n",
    "plt.plot(range(N),explained_var,'o-')\n",
    "plt.plot(range(N),np.cumsum(explained_var),'o-')\n",
    "plt.grid()"
   ]
  },
  {
   "cell_type": "code",
   "execution_count": 11,
   "metadata": {
    "tags": []
   },
   "outputs": [
    {
     "data": {
      "application/vnd.jupyter.widget-view+json": {
       "model_id": "1f9a83949a844dacb8a30fe24cb9f98b",
       "version_major": 2,
       "version_minor": 0
      },
      "text/plain": [
       "HBox(children=(FloatProgress(value=0.0, max=346.0), HTML(value='')))"
      ]
     },
     "metadata": {},
     "output_type": "display_data"
    },
    {
     "ename": "KeyboardInterrupt",
     "evalue": "",
     "output_type": "error",
     "traceback": [
      "\u001b[1;31m---------------------------------------------------------------------------\u001b[0m",
      "\u001b[1;31mKeyboardInterrupt\u001b[0m                         Traceback (most recent call last)",
      "\u001b[1;32m<ipython-input-11-47197d78b0e0>\u001b[0m in \u001b[0;36m<module>\u001b[1;34m\u001b[0m\n\u001b[0;32m      2\u001b[0m \u001b[0mvectorized\u001b[0m \u001b[1;33m=\u001b[0m \u001b[1;33m[\u001b[0m\u001b[1;33m]\u001b[0m\u001b[1;33m\u001b[0m\u001b[1;33m\u001b[0m\u001b[0m\n\u001b[0;32m      3\u001b[0m \u001b[1;32mfor\u001b[0m \u001b[0mi\u001b[0m \u001b[1;32min\u001b[0m \u001b[0mtqdm\u001b[0m\u001b[1;33m(\u001b[0m\u001b[0mexample_corpus\u001b[0m\u001b[1;33m)\u001b[0m\u001b[1;33m:\u001b[0m\u001b[1;33m\u001b[0m\u001b[1;33m\u001b[0m\u001b[0m\n\u001b[1;32m----> 4\u001b[1;33m     \u001b[0mvectorized\u001b[0m\u001b[1;33m.\u001b[0m\u001b[0mappend\u001b[0m\u001b[1;33m(\u001b[0m\u001b[0mBigraph\u001b[0m\u001b[1;33m.\u001b[0m\u001b[0mvectorize\u001b[0m\u001b[1;33m(\u001b[0m\u001b[0mi\u001b[0m\u001b[1;33m)\u001b[0m\u001b[1;33m)\u001b[0m\u001b[1;33m\u001b[0m\u001b[1;33m\u001b[0m\u001b[0m\n\u001b[0m",
      "\u001b[1;32m<ipython-input-2-8881374d3b10>\u001b[0m in \u001b[0;36mvectorize\u001b[1;34m(self, string, method)\u001b[0m\n\u001b[0;32m    139\u001b[0m                 \u001b[1;32mif\u001b[0m \u001b[0mtok\u001b[0m \u001b[1;32mnot\u001b[0m \u001b[1;32min\u001b[0m \u001b[0mself\u001b[0m\u001b[1;33m.\u001b[0m\u001b[0mData\u001b[0m\u001b[1;33m.\u001b[0m\u001b[0mword\u001b[0m\u001b[1;33m.\u001b[0m\u001b[0mvalues\u001b[0m\u001b[1;33m:\u001b[0m\u001b[1;33m\u001b[0m\u001b[1;33m\u001b[0m\u001b[0m\n\u001b[0;32m    140\u001b[0m                     \u001b[1;32mcontinue\u001b[0m\u001b[1;33m\u001b[0m\u001b[1;33m\u001b[0m\u001b[0m\n\u001b[1;32m--> 141\u001b[1;33m                 \u001b[0mvec_form\u001b[0m\u001b[1;33m.\u001b[0m\u001b[0mappend\u001b[0m\u001b[1;33m(\u001b[0m\u001b[0mself\u001b[0m\u001b[1;33m.\u001b[0m\u001b[0mData\u001b[0m\u001b[1;33m.\u001b[0m\u001b[0mquery\u001b[0m\u001b[1;33m(\u001b[0m\u001b[1;34mf'word == \"{tok}\"'\u001b[0m\u001b[1;33m)\u001b[0m\u001b[1;33m[\u001b[0m\u001b[1;34m'color'\u001b[0m\u001b[1;33m]\u001b[0m\u001b[1;33m.\u001b[0m\u001b[0mvalues\u001b[0m\u001b[1;33m[\u001b[0m\u001b[1;36m0\u001b[0m\u001b[1;33m]\u001b[0m\u001b[1;33m)\u001b[0m\u001b[1;33m\u001b[0m\u001b[1;33m\u001b[0m\u001b[0m\n\u001b[0m\u001b[0;32m    142\u001b[0m             \u001b[1;32mreturn\u001b[0m \u001b[0mvec_form\u001b[0m\u001b[1;33m\u001b[0m\u001b[1;33m\u001b[0m\u001b[0m\n\u001b[0;32m    143\u001b[0m         \u001b[1;32melse\u001b[0m\u001b[1;33m:\u001b[0m\u001b[1;33m\u001b[0m\u001b[1;33m\u001b[0m\u001b[0m\n",
      "\u001b[1;32m~\\anaconda3\\lib\\site-packages\\pandas\\core\\frame.py\u001b[0m in \u001b[0;36mquery\u001b[1;34m(self, expr, inplace, **kwargs)\u001b[0m\n\u001b[0;32m   3229\u001b[0m         \u001b[0mkwargs\u001b[0m\u001b[1;33m[\u001b[0m\u001b[1;34m\"level\"\u001b[0m\u001b[1;33m]\u001b[0m \u001b[1;33m=\u001b[0m \u001b[0mkwargs\u001b[0m\u001b[1;33m.\u001b[0m\u001b[0mpop\u001b[0m\u001b[1;33m(\u001b[0m\u001b[1;34m\"level\"\u001b[0m\u001b[1;33m,\u001b[0m \u001b[1;36m0\u001b[0m\u001b[1;33m)\u001b[0m \u001b[1;33m+\u001b[0m \u001b[1;36m1\u001b[0m\u001b[1;33m\u001b[0m\u001b[1;33m\u001b[0m\u001b[0m\n\u001b[0;32m   3230\u001b[0m         \u001b[0mkwargs\u001b[0m\u001b[1;33m[\u001b[0m\u001b[1;34m\"target\"\u001b[0m\u001b[1;33m]\u001b[0m \u001b[1;33m=\u001b[0m \u001b[1;32mNone\u001b[0m\u001b[1;33m\u001b[0m\u001b[1;33m\u001b[0m\u001b[0m\n\u001b[1;32m-> 3231\u001b[1;33m         \u001b[0mres\u001b[0m \u001b[1;33m=\u001b[0m \u001b[0mself\u001b[0m\u001b[1;33m.\u001b[0m\u001b[0meval\u001b[0m\u001b[1;33m(\u001b[0m\u001b[0mexpr\u001b[0m\u001b[1;33m,\u001b[0m \u001b[1;33m**\u001b[0m\u001b[0mkwargs\u001b[0m\u001b[1;33m)\u001b[0m\u001b[1;33m\u001b[0m\u001b[1;33m\u001b[0m\u001b[0m\n\u001b[0m\u001b[0;32m   3232\u001b[0m \u001b[1;33m\u001b[0m\u001b[0m\n\u001b[0;32m   3233\u001b[0m         \u001b[1;32mtry\u001b[0m\u001b[1;33m:\u001b[0m\u001b[1;33m\u001b[0m\u001b[1;33m\u001b[0m\u001b[0m\n",
      "\u001b[1;32m~\\anaconda3\\lib\\site-packages\\pandas\\core\\frame.py\u001b[0m in \u001b[0;36meval\u001b[1;34m(self, expr, inplace, **kwargs)\u001b[0m\n\u001b[0;32m   3337\u001b[0m         \u001b[0mkwargs\u001b[0m\u001b[1;33m[\u001b[0m\u001b[1;34m\"level\"\u001b[0m\u001b[1;33m]\u001b[0m \u001b[1;33m=\u001b[0m \u001b[0mkwargs\u001b[0m\u001b[1;33m.\u001b[0m\u001b[0mpop\u001b[0m\u001b[1;33m(\u001b[0m\u001b[1;34m\"level\"\u001b[0m\u001b[1;33m,\u001b[0m \u001b[1;36m0\u001b[0m\u001b[1;33m)\u001b[0m \u001b[1;33m+\u001b[0m \u001b[1;36m1\u001b[0m\u001b[1;33m\u001b[0m\u001b[1;33m\u001b[0m\u001b[0m\n\u001b[0;32m   3338\u001b[0m         \u001b[1;32mif\u001b[0m \u001b[0mresolvers\u001b[0m \u001b[1;32mis\u001b[0m \u001b[1;32mNone\u001b[0m\u001b[1;33m:\u001b[0m\u001b[1;33m\u001b[0m\u001b[1;33m\u001b[0m\u001b[0m\n\u001b[1;32m-> 3339\u001b[1;33m             \u001b[0mindex_resolvers\u001b[0m \u001b[1;33m=\u001b[0m \u001b[0mself\u001b[0m\u001b[1;33m.\u001b[0m\u001b[0m_get_index_resolvers\u001b[0m\u001b[1;33m(\u001b[0m\u001b[1;33m)\u001b[0m\u001b[1;33m\u001b[0m\u001b[1;33m\u001b[0m\u001b[0m\n\u001b[0m\u001b[0;32m   3340\u001b[0m             \u001b[0mcolumn_resolvers\u001b[0m \u001b[1;33m=\u001b[0m \u001b[0mself\u001b[0m\u001b[1;33m.\u001b[0m\u001b[0m_get_cleaned_column_resolvers\u001b[0m\u001b[1;33m(\u001b[0m\u001b[1;33m)\u001b[0m\u001b[1;33m\u001b[0m\u001b[1;33m\u001b[0m\u001b[0m\n\u001b[0;32m   3341\u001b[0m             \u001b[0mresolvers\u001b[0m \u001b[1;33m=\u001b[0m \u001b[0mcolumn_resolvers\u001b[0m\u001b[1;33m,\u001b[0m \u001b[0mindex_resolvers\u001b[0m\u001b[1;33m\u001b[0m\u001b[1;33m\u001b[0m\u001b[0m\n",
      "\u001b[1;32m~\\anaconda3\\lib\\site-packages\\pandas\\core\\generic.py\u001b[0m in \u001b[0;36m_get_index_resolvers\u001b[1;34m(self)\u001b[0m\n\u001b[0;32m    468\u001b[0m         \u001b[0md\u001b[0m\u001b[1;33m:\u001b[0m \u001b[0mDict\u001b[0m\u001b[1;33m[\u001b[0m\u001b[0mstr\u001b[0m\u001b[1;33m,\u001b[0m \u001b[0mABCSeries\u001b[0m\u001b[1;33m]\u001b[0m \u001b[1;33m=\u001b[0m \u001b[1;33m{\u001b[0m\u001b[1;33m}\u001b[0m\u001b[1;33m\u001b[0m\u001b[1;33m\u001b[0m\u001b[0m\n\u001b[0;32m    469\u001b[0m         \u001b[1;32mfor\u001b[0m \u001b[0maxis_name\u001b[0m \u001b[1;32min\u001b[0m \u001b[0mself\u001b[0m\u001b[1;33m.\u001b[0m\u001b[0m_AXIS_ORDERS\u001b[0m\u001b[1;33m:\u001b[0m\u001b[1;33m\u001b[0m\u001b[1;33m\u001b[0m\u001b[0m\n\u001b[1;32m--> 470\u001b[1;33m             \u001b[0md\u001b[0m\u001b[1;33m.\u001b[0m\u001b[0mupdate\u001b[0m\u001b[1;33m(\u001b[0m\u001b[0mself\u001b[0m\u001b[1;33m.\u001b[0m\u001b[0m_get_axis_resolvers\u001b[0m\u001b[1;33m(\u001b[0m\u001b[0maxis_name\u001b[0m\u001b[1;33m)\u001b[0m\u001b[1;33m)\u001b[0m\u001b[1;33m\u001b[0m\u001b[1;33m\u001b[0m\u001b[0m\n\u001b[0m\u001b[0;32m    471\u001b[0m \u001b[1;33m\u001b[0m\u001b[0m\n\u001b[0;32m    472\u001b[0m         \u001b[1;32mreturn\u001b[0m \u001b[1;33m{\u001b[0m\u001b[0mclean_column_name\u001b[0m\u001b[1;33m(\u001b[0m\u001b[0mk\u001b[0m\u001b[1;33m)\u001b[0m\u001b[1;33m:\u001b[0m \u001b[0mv\u001b[0m \u001b[1;32mfor\u001b[0m \u001b[0mk\u001b[0m\u001b[1;33m,\u001b[0m \u001b[0mv\u001b[0m \u001b[1;32min\u001b[0m \u001b[0md\u001b[0m\u001b[1;33m.\u001b[0m\u001b[0mitems\u001b[0m\u001b[1;33m(\u001b[0m\u001b[1;33m)\u001b[0m \u001b[1;32mif\u001b[0m \u001b[1;32mnot\u001b[0m \u001b[0misinstance\u001b[0m\u001b[1;33m(\u001b[0m\u001b[0mk\u001b[0m\u001b[1;33m,\u001b[0m \u001b[0mint\u001b[0m\u001b[1;33m)\u001b[0m\u001b[1;33m}\u001b[0m\u001b[1;33m\u001b[0m\u001b[1;33m\u001b[0m\u001b[0m\n",
      "\u001b[1;32m~\\anaconda3\\lib\\site-packages\\pandas\\core\\generic.py\u001b[0m in \u001b[0;36m_get_axis_resolvers\u001b[1;34m(self, axis)\u001b[0m\n\u001b[0;32m    450\u001b[0m \u001b[1;33m\u001b[0m\u001b[0m\n\u001b[0;32m    451\u001b[0m             \u001b[0mlevel_values\u001b[0m \u001b[1;33m=\u001b[0m \u001b[0maxis_index\u001b[0m\u001b[1;33m.\u001b[0m\u001b[0mget_level_values\u001b[0m\u001b[1;33m(\u001b[0m\u001b[0mlevel\u001b[0m\u001b[1;33m)\u001b[0m\u001b[1;33m\u001b[0m\u001b[1;33m\u001b[0m\u001b[0m\n\u001b[1;32m--> 452\u001b[1;33m             \u001b[0ms\u001b[0m \u001b[1;33m=\u001b[0m \u001b[0mlevel_values\u001b[0m\u001b[1;33m.\u001b[0m\u001b[0mto_series\u001b[0m\u001b[1;33m(\u001b[0m\u001b[1;33m)\u001b[0m\u001b[1;33m\u001b[0m\u001b[1;33m\u001b[0m\u001b[0m\n\u001b[0m\u001b[0;32m    453\u001b[0m             \u001b[0ms\u001b[0m\u001b[1;33m.\u001b[0m\u001b[0mindex\u001b[0m \u001b[1;33m=\u001b[0m \u001b[0maxis_index\u001b[0m\u001b[1;33m\u001b[0m\u001b[1;33m\u001b[0m\u001b[0m\n\u001b[0;32m    454\u001b[0m             \u001b[0md\u001b[0m\u001b[1;33m[\u001b[0m\u001b[0mkey\u001b[0m\u001b[1;33m]\u001b[0m \u001b[1;33m=\u001b[0m \u001b[0ms\u001b[0m\u001b[1;33m\u001b[0m\u001b[1;33m\u001b[0m\u001b[0m\n",
      "\u001b[1;32m~\\anaconda3\\lib\\site-packages\\pandas\\core\\indexes\\base.py\u001b[0m in \u001b[0;36mto_series\u001b[1;34m(self, index, name)\u001b[0m\n\u001b[0;32m   1113\u001b[0m             \u001b[0mname\u001b[0m \u001b[1;33m=\u001b[0m \u001b[0mself\u001b[0m\u001b[1;33m.\u001b[0m\u001b[0mname\u001b[0m\u001b[1;33m\u001b[0m\u001b[1;33m\u001b[0m\u001b[0m\n\u001b[0;32m   1114\u001b[0m \u001b[1;33m\u001b[0m\u001b[0m\n\u001b[1;32m-> 1115\u001b[1;33m         \u001b[1;32mreturn\u001b[0m \u001b[0mSeries\u001b[0m\u001b[1;33m(\u001b[0m\u001b[0mself\u001b[0m\u001b[1;33m.\u001b[0m\u001b[0mvalues\u001b[0m\u001b[1;33m.\u001b[0m\u001b[0mcopy\u001b[0m\u001b[1;33m(\u001b[0m\u001b[1;33m)\u001b[0m\u001b[1;33m,\u001b[0m \u001b[0mindex\u001b[0m\u001b[1;33m=\u001b[0m\u001b[0mindex\u001b[0m\u001b[1;33m,\u001b[0m \u001b[0mname\u001b[0m\u001b[1;33m=\u001b[0m\u001b[0mname\u001b[0m\u001b[1;33m)\u001b[0m\u001b[1;33m\u001b[0m\u001b[1;33m\u001b[0m\u001b[0m\n\u001b[0m\u001b[0;32m   1116\u001b[0m \u001b[1;33m\u001b[0m\u001b[0m\n\u001b[0;32m   1117\u001b[0m     \u001b[1;32mdef\u001b[0m \u001b[0mto_frame\u001b[0m\u001b[1;33m(\u001b[0m\u001b[0mself\u001b[0m\u001b[1;33m,\u001b[0m \u001b[0mindex\u001b[0m\u001b[1;33m=\u001b[0m\u001b[1;32mTrue\u001b[0m\u001b[1;33m,\u001b[0m \u001b[0mname\u001b[0m\u001b[1;33m=\u001b[0m\u001b[1;32mNone\u001b[0m\u001b[1;33m)\u001b[0m\u001b[1;33m:\u001b[0m\u001b[1;33m\u001b[0m\u001b[1;33m\u001b[0m\u001b[0m\n",
      "\u001b[1;31mKeyboardInterrupt\u001b[0m: "
     ]
    }
   ],
   "source": [
    "#Vectorizing \n",
    "vectorized = []\n",
    "for i in tqdm(example_corpus):\n",
    "    vectorized.append(Bigraph.vectorize(i))\n"
   ]
  },
  {
   "cell_type": "code",
   "execution_count": null,
   "metadata": {
    "tags": []
   },
   "outputs": [],
   "source": [
    "pad_size = example_corpus.apply(lambda x: len(x)).max()\n",
    "vec_norm = []\n",
    "for vec in vectorized:\n",
    "    V = np.zeros(pad_size)-1\n",
    "    V[:len(vec)] = vec\n",
    "    vec_norm.append(np.array(V))\n",
    "vec_norm = np.array(vec_norm)    "
   ]
  },
  {
   "cell_type": "code",
   "execution_count": 381,
   "metadata": {
    "tags": []
   },
   "outputs": [],
   "source": [
    "from scipy.spatial import distance_matrix\n",
    "\n",
    "dm = distance_matrix(vec_norm,vec_norm)"
   ]
  },
  {
   "cell_type": "code",
   "execution_count": 411,
   "metadata": {
    "tags": []
   },
   "outputs": [
    {
     "data": {
      "text/plain": [
       "NearestNeighbors(algorithm='auto', leaf_size=30, metric='cosine',\n",
       "                 metric_params=None, n_jobs=None, n_neighbors=2, p=2,\n",
       "                 radius=1.0)"
      ]
     },
     "execution_count": 411,
     "metadata": {},
     "output_type": "execute_result"
    }
   ],
   "source": [
    "from sklearn.neighbors import NearestNeighbors\n",
    "NN = NearestNeighbors(n_neighbors=2,metric='cosine')\n",
    "\n",
    "NN.fit(vec_norm)\n",
    "distances, indices = NN.kneighbors(vec_norm)\n",
    "NN"
   ]
  },
  {
   "cell_type": "code",
   "execution_count": 412,
   "metadata": {
    "tags": []
   },
   "outputs": [
    {
     "name": "stdout",
     "output_type": "stream",
     "text": [
      "{'if', 'but', 'i', 'said', 'see', 'you', 'one', 'go', 'hard', 'never', 'and', 'youre', 'know', 'let', 'time', 'little', 'want', 'im'}\n",
      "{'every', 'i', 'when', 'house', 'know', 'ive', 'im'}\n",
      "{'me', 'i', 'one', 'will', 'breathe', 'take'}\n",
      "{'got', 'but', 'i', 'you', 'they', 'ive', 'im'}\n",
      "{'i', 'ill', 'and', 'twice', 'man', 'say', 'im'}\n"
     ]
    }
   ],
   "source": [
    "#intersection between NN\n",
    "for x,y in indices[:5]:\n",
    "    INSC = set(example_corpus[x].split()) & set(example_corpus[y].split())\n",
    "    print((INSC))"
   ]
  },
  {
   "cell_type": "code",
   "execution_count": 414,
   "metadata": {
    "tags": []
   },
   "outputs": [
    {
     "name": "stdout",
     "output_type": "stream",
     "text": [
      "0.1620244605095864\n",
      "0.10561753940748986\n",
      "0.11022158021219375\n",
      "0.11995147813584017\n",
      "0.13818627546528006\n"
     ]
    }
   ],
   "source": [
    "#Cosine Distance\n",
    "from scipy.spatial.distance import cosine\n",
    "for x,y in indices[:5]:\n",
    "    INSC = cosine(vec_norm[x,:],vec_norm[y,:])\n",
    "    print((INSC))"
   ]
  },
  {
   "cell_type": "markdown",
   "metadata": {
    "tags": []
   },
   "source": [
    "<h3 style=\"background-color:green;font-family:newtimeroman;font-size:200%;text-align:center;border-radius: 15px 50px;\">Amazon Costume Reviews Dataset</h3>\n"
   ]
  },
  {
   "cell_type": "code",
   "execution_count": 107,
   "metadata": {
    "tags": []
   },
   "outputs": [],
   "source": [
    "example_corpus = pd.read_csv('Costumes_Amazon.csv')['text'].dropna()\n",
    "example_corpus = example_corpus.apply(lambda _z: ' '.join([word.lower() for word in _z.split() if word not in ' '.join(punctuation).split() and word not in STOPWORDS]))\n",
    "example_corpus = example_corpus.apply(lambda _z: ''.join([''.join(char) for word in _z for char in word if char not in ' '.join(punctuation).split()]))\n",
    "Bigraph = BiGramGraph(example_corpus,notebook=True)"
   ]
  },
  {
   "cell_type": "code",
   "execution_count": 416,
   "metadata": {
    "collapsed": true,
    "jupyter": {
     "outputs_hidden": true,
     "source_hidden": true
    },
    "tags": []
   },
   "outputs": [
    {
     "data": {
      "text/plain": [
       "Number of words included: 11857\n",
       "Number of edges included: 98564\n",
       "Chromatic number: 23"
      ]
     },
     "execution_count": 416,
     "metadata": {},
     "output_type": "execute_result"
    }
   ],
   "source": [
    "Bigraph"
   ]
  },
  {
   "cell_type": "code",
   "execution_count": 417,
   "metadata": {
    "collapsed": true,
    "jupyter": {
     "outputs_hidden": true,
     "source_hidden": true
    },
    "tags": []
   },
   "outputs": [
    {
     "data": {
      "image/png": "[encoded data removed]",
      "text/plain": [
       "<Figure size 1440x432 with 1 Axes>"
      ]
     },
     "metadata": {
      "needs_background": "light"
     },
     "output_type": "display_data"
    }
   ],
   "source": [
    "plt.figure(figsize=(20,6))\n",
    "plt.title('Distribution of Color Tags')\n",
    "sns.countplot(Bigraph.Data.color)\n",
    "plt.show()"
   ]
  },
  {
   "cell_type": "code",
   "execution_count": 418,
   "metadata": {
    "collapsed": true,
    "jupyter": {
     "outputs_hidden": true,
     "source_hidden": true
    },
    "tags": []
   },
   "outputs": [
    {
     "data": {
      "application/vnd.jupyter.widget-view+json": {
       "model_id": "0a02dcac6f334f6c9eab94e69cb3aeaf",
       "version_major": 2,
       "version_minor": 0
      },
      "text/plain": [
       "HBox(children=(FloatProgress(value=0.0, max=11857.0), HTML(value='')))"
      ]
     },
     "metadata": {},
     "output_type": "display_data"
    },
    {
     "name": "stdout",
     "output_type": "stream",
     "text": [
      "\n"
     ]
    }
   ],
   "source": [
    "Bigraph.add_part_of_speech()"
   ]
  },
  {
   "cell_type": "code",
   "execution_count": 419,
   "metadata": {
    "collapsed": true,
    "jupyter": {
     "outputs_hidden": true,
     "source_hidden": true
    },
    "tags": []
   },
   "outputs": [
    {
     "data": {
      "text/html": [
       "<div>\n",
       "<style scoped>\n",
       "    .dataframe tbody tr th:only-of-type {\n",
       "        vertical-align: middle;\n",
       "    }\n",
       "\n",
       "    .dataframe tbody tr th {\n",
       "        vertical-align: top;\n",
       "    }\n",
       "\n",
       "    .dataframe thead th {\n",
       "        text-align: right;\n",
       "    }\n",
       "</style>\n",
       "<table border=\"1\" class=\"dataframe\">\n",
       "  <thead>\n",
       "    <tr style=\"text-align: right;\">\n",
       "      <th></th>\n",
       "      <th>color</th>\n",
       "      <th>word</th>\n",
       "      <th>pos</th>\n",
       "    </tr>\n",
       "  </thead>\n",
       "  <tbody>\n",
       "    <tr>\n",
       "      <th>0</th>\n",
       "      <td>0</td>\n",
       "      <td>i</td>\n",
       "      <td>PRON</td>\n",
       "    </tr>\n",
       "    <tr>\n",
       "      <th>1</th>\n",
       "      <td>1</td>\n",
       "      <td>costume</td>\n",
       "      <td>NOUN</td>\n",
       "    </tr>\n",
       "    <tr>\n",
       "      <th>3</th>\n",
       "      <td>0</td>\n",
       "      <td>the</td>\n",
       "      <td>DET</td>\n",
       "    </tr>\n",
       "    <tr>\n",
       "      <th>12</th>\n",
       "      <td>0</td>\n",
       "      <td>my</td>\n",
       "      <td>DET</td>\n",
       "    </tr>\n",
       "    <tr>\n",
       "      <th>15</th>\n",
       "      <td>1</td>\n",
       "      <td>im</td>\n",
       "      <td>PRON</td>\n",
       "    </tr>\n",
       "    <tr>\n",
       "      <th>...</th>\n",
       "      <td>...</td>\n",
       "      <td>...</td>\n",
       "      <td>...</td>\n",
       "    </tr>\n",
       "    <tr>\n",
       "      <th>11852</th>\n",
       "      <td>1</td>\n",
       "      <td>🤪</td>\n",
       "      <td>PROPN</td>\n",
       "    </tr>\n",
       "    <tr>\n",
       "      <th>11853</th>\n",
       "      <td>1</td>\n",
       "      <td>🤭</td>\n",
       "      <td>PROPN</td>\n",
       "    </tr>\n",
       "    <tr>\n",
       "      <th>11854</th>\n",
       "      <td>0</td>\n",
       "      <td>🤯</td>\n",
       "      <td>X</td>\n",
       "    </tr>\n",
       "    <tr>\n",
       "      <th>11855</th>\n",
       "      <td>0</td>\n",
       "      <td>🤷🏼‍♀️</td>\n",
       "      <td>X</td>\n",
       "    </tr>\n",
       "    <tr>\n",
       "      <th>11856</th>\n",
       "      <td>1</td>\n",
       "      <td>🧡🎃💛💙</td>\n",
       "      <td>PROPN</td>\n",
       "    </tr>\n",
       "  </tbody>\n",
       "</table>\n",
       "<p>10143 rows × 3 columns</p>\n",
       "</div>"
      ],
      "text/plain": [
       "      color     word    pos\n",
       "0         0        i   PRON\n",
       "1         1  costume   NOUN\n",
       "3         0      the    DET\n",
       "12        0       my    DET\n",
       "15        1       im   PRON\n",
       "...     ...      ...    ...\n",
       "11852     1        🤪  PROPN\n",
       "11853     1        🤭  PROPN\n",
       "11854     0        🤯      X\n",
       "11855     0    🤷🏼‍♀️      X\n",
       "11856     1     🧡🎃💛💙  PROPN\n",
       "\n",
       "[10143 rows x 3 columns]"
      ]
     },
     "execution_count": 419,
     "metadata": {},
     "output_type": "execute_result"
    }
   ],
   "source": [
    "threshold = np.round(Bigraph.Data.color.value_counts().max()*0.2)\n",
    "color_counts = Bigraph.Data.color.value_counts()\n",
    "rare_color_counts = color_counts[color_counts<threshold]\n",
    "common_color_counts = color_counts[color_counts>threshold]\n",
    "\n",
    "query = ' '.join(f'color == {i} or' for i in rare_color_counts.index)\n",
    "query = query[:-3]\n",
    "rare_under_testing = Bigraph.Data.query(query)\n",
    "rare_under_testing\n",
    "\n",
    "query = ' '.join(f'color == {i} or' for i in common_color_counts.index)\n",
    "query = query[:-3]\n",
    "common_under_testing = Bigraph.Data.query(query)\n",
    "common_under_testing"
   ]
  },
  {
   "cell_type": "code",
   "execution_count": 420,
   "metadata": {
    "collapsed": true,
    "jupyter": {
     "outputs_hidden": true,
     "source_hidden": true
    },
    "scrolled": true,
    "tags": []
   },
   "outputs": [
    {
     "data": {
      "image/png": "[encoded data removed]",
      "text/plain": [
       "<Figure size 1080x360 with 2 Axes>"
      ]
     },
     "metadata": {
      "needs_background": "light"
     },
     "output_type": "display_data"
    }
   ],
   "source": [
    "plt.figure(figsize=(15,5))\n",
    "plt.subplot(2,1,1)\n",
    "plt.title('Rare Color Tagged Words')\n",
    "ax=sns.countplot(rare_under_testing.pos,order=rare_under_testing.pos.value_counts().index)\n",
    "ax.set_xticklabels(ax.get_xticklabels(),rotation=90)\n",
    "plt.subplot(2,1,2)\n",
    "plt.title('Common Color Tagged Words')\n",
    "ax=sns.countplot(common_under_testing.pos,order=rare_under_testing.pos.value_counts().index)\n",
    "ax.set_xticklabels(ax.get_xticklabels(),rotation=90)\n",
    "plt.tight_layout()\n",
    "plt.show()"
   ]
  },
  {
   "cell_type": "code",
   "execution_count": 421,
   "metadata": {
    "collapsed": true,
    "jupyter": {
     "outputs_hidden": true,
     "source_hidden": true
    },
    "scrolled": true,
    "tags": []
   },
   "outputs": [
    {
     "data": {
      "image/png": "[encoded data removed]",
      "text/plain": [
       "<Figure size 432x288 with 1 Axes>"
      ]
     },
     "metadata": {
      "needs_background": "light"
     },
     "output_type": "display_data"
    }
   ],
   "source": [
    "#Testing intext Variance\n",
    "\n",
    "N = 100\n",
    "CV=CountVectorizer()\n",
    "pca = TruncatedSVD(N)\n",
    "pca.fit(CV.fit_transform(example_corpus))\n",
    "\n",
    "explained_var = pca.explained_variance_ratio_\n",
    "\n",
    "plt.title(f'Amazon Reviews Explained Varince of {N} Words')\n",
    "plt.plot(range(N),explained_var,'o-')\n",
    "plt.plot(range(N),np.cumsum(explained_var),'o-')\n",
    "plt.grid()"
   ]
  },
  {
   "cell_type": "code",
   "execution_count": 422,
   "metadata": {
    "collapsed": true,
    "jupyter": {
     "outputs_hidden": true,
     "source_hidden": true
    },
    "tags": []
   },
   "outputs": [
    {
     "data": {
      "application/vnd.jupyter.widget-view+json": {
       "model_id": "7c8532b285cf4b5191f935fdc3a40b43",
       "version_major": 2,
       "version_minor": 0
      },
      "text/plain": [
       "HBox(children=(FloatProgress(value=0.0, max=7814.0), HTML(value='')))"
      ]
     },
     "metadata": {},
     "output_type": "display_data"
    },
    {
     "name": "stdout",
     "output_type": "stream",
     "text": [
      "\n"
     ]
    }
   ],
   "source": [
    "#Vectorizing \n",
    "vectorized = []\n",
    "for i in tqdm(example_corpus):\n",
    "    vectorized.append(Bigraph.vectorize(i))\n"
   ]
  },
  {
   "cell_type": "code",
   "execution_count": 426,
   "metadata": {
    "collapsed": true,
    "jupyter": {
     "outputs_hidden": true,
     "source_hidden": true
    },
    "tags": []
   },
   "outputs": [
    {
     "data": {
      "application/vnd.jupyter.widget-view+json": {
       "model_id": "f876c31c9d0745e698043822787a964b",
       "version_major": 2,
       "version_minor": 0
      },
      "text/plain": [
       "HBox(children=(FloatProgress(value=0.0, max=7814.0), HTML(value='')))"
      ]
     },
     "metadata": {},
     "output_type": "display_data"
    },
    {
     "name": "stdout",
     "output_type": "stream",
     "text": [
      "\n"
     ]
    }
   ],
   "source": [
    "pad_size = example_corpus.apply(lambda x: len(x)).max()\n",
    "vec_norm = []\n",
    "for vec in tqdm(vectorized):\n",
    "    V = np.zeros(pad_size)-1\n",
    "    V[:len(vec)] = vec\n",
    "    vec_norm.append(np.array(V))\n",
    "vec_norm = np.array(vec_norm)    "
   ]
  },
  {
   "cell_type": "code",
   "execution_count": 428,
   "metadata": {
    "collapsed": true,
    "jupyter": {
     "outputs_hidden": true,
     "source_hidden": true
    },
    "tags": []
   },
   "outputs": [
    {
     "data": {
      "text/plain": [
       "NearestNeighbors(algorithm='auto', leaf_size=30, metric='cosine',\n",
       "                 metric_params=None, n_jobs=None, n_neighbors=2, p=2,\n",
       "                 radius=1.0)"
      ]
     },
     "execution_count": 428,
     "metadata": {},
     "output_type": "execute_result"
    }
   ],
   "source": [
    "from sklearn.neighbors import NearestNeighbors\n",
    "NN = NearestNeighbors(n_neighbors=2,metric='cosine')\n",
    "\n",
    "NN.fit(vec_norm)\n",
    "distances, indices = NN.kneighbors(vec_norm)\n",
    "NN"
   ]
  },
  {
   "cell_type": "code",
   "execution_count": 435,
   "metadata": {
    "collapsed": true,
    "jupyter": {
     "outputs_hidden": true,
     "source_hidden": true
    },
    "tags": []
   },
   "outputs": [
    {
     "name": "stdout",
     "output_type": "stream",
     "text": [
      "{'wear', 'definitely'}\n",
      "{'got'}\n",
      "{'one'}\n",
      "{'many', 'got', 'compliments', 'costume'}\n",
      "set()\n"
     ]
    }
   ],
   "source": [
    "#intersection between NN\n",
    "for x,y in indices[:5]:\n",
    "    INSC = set(example_corpus[x].split()) & set(example_corpus[y].split())\n",
    "    print((INSC))"
   ]
  },
  {
   "cell_type": "code",
   "execution_count": 430,
   "metadata": {
    "collapsed": true,
    "jupyter": {
     "outputs_hidden": true,
     "source_hidden": true
    },
    "scrolled": true,
    "tags": []
   },
   "outputs": [
    {
     "name": "stdout",
     "output_type": "stream",
     "text": [
      "0.08873569011914895\n",
      "0.1478773029739181\n",
      "0.006708374508506254\n",
      "0.009145326607094995\n",
      "0.0530115020311005\n"
     ]
    }
   ],
   "source": [
    "#Cosine Distance\n",
    "from scipy.spatial.distance import cosine\n",
    "for x,y in indices[:5]:\n",
    "    INSC = cosine(vec_norm[x,:],vec_norm[y,:])\n",
    "    print((INSC))"
   ]
  },
  {
   "cell_type": "markdown",
   "metadata": {
    "jupyter": {
     "source_hidden": true
    },
    "tags": []
   },
   "source": [
    "<h3 style=\"background-color:green;font-family:newtimeroman;font-size:200%;text-align:center;border-radius: 15px 50px;\">Computer Science Book Description Dataset</h3>\n"
   ]
  },
  {
   "cell_type": "code",
   "execution_count": 436,
   "metadata": {
    "collapsed": true,
    "jupyter": {
     "outputs_hidden": true,
     "source_hidden": true
    },
    "tags": []
   },
   "outputs": [
    {
     "name": "stderr",
     "output_type": "stream",
     "text": [
      "C:\\Users\\tomas\\anaconda3\\lib\\site-packages\\tqdm\\std.py:658: FutureWarning: The Panel class is removed from pandas. Accessing it from the top-level namespace will also be removed in the next version\n",
      "  from pandas import Panel\n"
     ]
    }
   ],
   "source": [
    "example_corpus = pd.read_csv('prog_book.csv')['Description'].dropna()\n",
    "example_corpus = example_corpus.apply(lambda _z: ' '.join([word.lower() for word in _z.split() if word not in ' '.join(punctuation).split() and word not in STOPWORDS]))\n",
    "example_corpus = example_corpus.apply(lambda _z: ''.join([''.join(char) for word in _z for char in word if char not in ' '.join(punctuation).split()]))\n",
    "Bigraph = BiGramGraph(example_corpus,notebook=True)"
   ]
  },
  {
   "cell_type": "code",
   "execution_count": 437,
   "metadata": {
    "collapsed": true,
    "jupyter": {
     "outputs_hidden": true,
     "source_hidden": true
    },
    "tags": []
   },
   "outputs": [
    {
     "data": {
      "text/plain": [
       "Number of words included: 3361\n",
       "Number of edges included: 8852\n",
       "Chromatic number: 6"
      ]
     },
     "execution_count": 437,
     "metadata": {},
     "output_type": "execute_result"
    }
   ],
   "source": [
    "Bigraph"
   ]
  },
  {
   "cell_type": "code",
   "execution_count": 438,
   "metadata": {
    "collapsed": true,
    "jupyter": {
     "outputs_hidden": true,
     "source_hidden": true
    },
    "tags": []
   },
   "outputs": [
    {
     "data": {
      "image/png": "[encoded data removed]",
      "text/plain": [
       "<Figure size 1440x432 with 1 Axes>"
      ]
     },
     "metadata": {
      "needs_background": "light"
     },
     "output_type": "display_data"
    }
   ],
   "source": [
    "plt.figure(figsize=(20,6))\n",
    "plt.title('Distribution of Color Tags')\n",
    "sns.countplot(Bigraph.Data.color)\n",
    "plt.show()"
   ]
  },
  {
   "cell_type": "code",
   "execution_count": 439,
   "metadata": {
    "collapsed": true,
    "jupyter": {
     "outputs_hidden": true,
     "source_hidden": true
    },
    "tags": []
   },
   "outputs": [
    {
     "data": {
      "application/vnd.jupyter.widget-view+json": {
       "model_id": "f733d62dc4ba421982275a04c42cb408",
       "version_major": 2,
       "version_minor": 0
      },
      "text/plain": [
       "HBox(children=(FloatProgress(value=0.0, max=3361.0), HTML(value='')))"
      ]
     },
     "metadata": {},
     "output_type": "display_data"
    },
    {
     "name": "stdout",
     "output_type": "stream",
     "text": [
      "\n"
     ]
    }
   ],
   "source": [
    "Bigraph.add_part_of_speech()"
   ]
  },
  {
   "cell_type": "code",
   "execution_count": 440,
   "metadata": {
    "collapsed": true,
    "jupyter": {
     "outputs_hidden": true,
     "source_hidden": true
    },
    "tags": []
   },
   "outputs": [
    {
     "data": {
      "text/html": [
       "<div>\n",
       "<style scoped>\n",
       "    .dataframe tbody tr th:only-of-type {\n",
       "        vertical-align: middle;\n",
       "    }\n",
       "\n",
       "    .dataframe tbody tr th {\n",
       "        vertical-align: top;\n",
       "    }\n",
       "\n",
       "    .dataframe thead th {\n",
       "        text-align: right;\n",
       "    }\n",
       "</style>\n",
       "<table border=\"1\" class=\"dataframe\">\n",
       "  <thead>\n",
       "    <tr style=\"text-align: right;\">\n",
       "      <th></th>\n",
       "      <th>color</th>\n",
       "      <th>word</th>\n",
       "      <th>pos</th>\n",
       "    </tr>\n",
       "  </thead>\n",
       "  <tbody>\n",
       "    <tr>\n",
       "      <th>0</th>\n",
       "      <td>0</td>\n",
       "      <td>more</td>\n",
       "      <td>ADJ</td>\n",
       "    </tr>\n",
       "    <tr>\n",
       "      <th>1</th>\n",
       "      <td>1</td>\n",
       "      <td>the</td>\n",
       "      <td>DET</td>\n",
       "    </tr>\n",
       "    <tr>\n",
       "      <th>3</th>\n",
       "      <td>0</td>\n",
       "      <td>programming</td>\n",
       "      <td>NOUN</td>\n",
       "    </tr>\n",
       "    <tr>\n",
       "      <th>4</th>\n",
       "      <td>0</td>\n",
       "      <td>new</td>\n",
       "      <td>ADJ</td>\n",
       "    </tr>\n",
       "    <tr>\n",
       "      <th>5</th>\n",
       "      <td>1</td>\n",
       "      <td>c</td>\n",
       "      <td>X</td>\n",
       "    </tr>\n",
       "    <tr>\n",
       "      <th>...</th>\n",
       "      <td>...</td>\n",
       "      <td>...</td>\n",
       "      <td>...</td>\n",
       "    </tr>\n",
       "    <tr>\n",
       "      <th>3356</th>\n",
       "      <td>1</td>\n",
       "      <td>yau</td>\n",
       "      <td>PROPN</td>\n",
       "    </tr>\n",
       "    <tr>\n",
       "      <th>3357</th>\n",
       "      <td>1</td>\n",
       "      <td>yo</td>\n",
       "      <td>PROPN</td>\n",
       "    </tr>\n",
       "    <tr>\n",
       "      <th>3358</th>\n",
       "      <td>1</td>\n",
       "      <td>york</td>\n",
       "      <td>PROPN</td>\n",
       "    </tr>\n",
       "    <tr>\n",
       "      <th>3359</th>\n",
       "      <td>0</td>\n",
       "      <td>young</td>\n",
       "      <td>ADJ</td>\n",
       "    </tr>\n",
       "    <tr>\n",
       "      <th>3360</th>\n",
       "      <td>1</td>\n",
       "      <td>youngest</td>\n",
       "      <td>ADV</td>\n",
       "    </tr>\n",
       "  </tbody>\n",
       "</table>\n",
       "<p>3071 rows × 3 columns</p>\n",
       "</div>"
      ],
      "text/plain": [
       "     color         word    pos\n",
       "0        0         more    ADJ\n",
       "1        1          the    DET\n",
       "3        0  programming   NOUN\n",
       "4        0          new    ADJ\n",
       "5        1            c      X\n",
       "...    ...          ...    ...\n",
       "3356     1          yau  PROPN\n",
       "3357     1           yo  PROPN\n",
       "3358     1         york  PROPN\n",
       "3359     0        young    ADJ\n",
       "3360     1     youngest    ADV\n",
       "\n",
       "[3071 rows x 3 columns]"
      ]
     },
     "execution_count": 440,
     "metadata": {},
     "output_type": "execute_result"
    }
   ],
   "source": [
    "threshold = np.round(Bigraph.Data.color.value_counts().max()*0.2)\n",
    "color_counts = Bigraph.Data.color.value_counts()\n",
    "rare_color_counts = color_counts[color_counts<threshold]\n",
    "common_color_counts = color_counts[color_counts>threshold]\n",
    "\n",
    "query = ' '.join(f'color == {i} or' for i in rare_color_counts.index)\n",
    "query = query[:-3]\n",
    "rare_under_testing = Bigraph.Data.query(query)\n",
    "rare_under_testing\n",
    "\n",
    "query = ' '.join(f'color == {i} or' for i in common_color_counts.index)\n",
    "query = query[:-3]\n",
    "common_under_testing = Bigraph.Data.query(query)\n",
    "common_under_testing"
   ]
  },
  {
   "cell_type": "code",
   "execution_count": 441,
   "metadata": {
    "collapsed": true,
    "jupyter": {
     "outputs_hidden": true,
     "source_hidden": true
    },
    "scrolled": true,
    "tags": []
   },
   "outputs": [
    {
     "data": {
      "image/png": "[encoded data removed]",
      "text/plain": [
       "<Figure size 1080x360 with 2 Axes>"
      ]
     },
     "metadata": {
      "needs_background": "light"
     },
     "output_type": "display_data"
    }
   ],
   "source": [
    "plt.figure(figsize=(15,5))\n",
    "plt.subplot(2,1,1)\n",
    "plt.title('Rare Color Tagged Words')\n",
    "ax=sns.countplot(rare_under_testing.pos,order=rare_under_testing.pos.value_counts().index)\n",
    "ax.set_xticklabels(ax.get_xticklabels(),rotation=90)\n",
    "plt.subplot(2,1,2)\n",
    "plt.title('Common Color Tagged Words')\n",
    "ax=sns.countplot(common_under_testing.pos,order=rare_under_testing.pos.value_counts().index)\n",
    "ax.set_xticklabels(ax.get_xticklabels(),rotation=90)\n",
    "plt.tight_layout()\n",
    "plt.show()"
   ]
  },
  {
   "cell_type": "code",
   "execution_count": 442,
   "metadata": {
    "collapsed": true,
    "jupyter": {
     "outputs_hidden": true,
     "source_hidden": true
    },
    "scrolled": true,
    "tags": []
   },
   "outputs": [
    {
     "data": {
      "image/png": "[encoded data removed]",
      "text/plain": [
       "<Figure size 432x288 with 1 Axes>"
      ]
     },
     "metadata": {
      "needs_background": "light"
     },
     "output_type": "display_data"
    }
   ],
   "source": [
    "#Testing intext Variance\n",
    "\n",
    "N = 100\n",
    "CV=CountVectorizer()\n",
    "pca = PCA(N)\n",
    "pca.fit(CV.fit_transform(example_corpus).todense())\n",
    "\n",
    "explained_var = pca.explained_variance_ratio_\n",
    "\n",
    "plt.title(f'Computer Science Books Explained Varince of {N} Words')\n",
    "plt.plot(range(N),explained_var,'o-')\n",
    "plt.plot(range(N),np.cumsum(explained_var),'o-')\n",
    "plt.grid()"
   ]
  },
  {
   "cell_type": "code",
   "execution_count": 443,
   "metadata": {
    "collapsed": true,
    "jupyter": {
     "outputs_hidden": true,
     "source_hidden": true
    },
    "tags": []
   },
   "outputs": [
    {
     "data": {
      "application/vnd.jupyter.widget-view+json": {
       "model_id": "76bfbb12395d43089bf24741ac878575",
       "version_major": 2,
       "version_minor": 0
      },
      "text/plain": [
       "HBox(children=(FloatProgress(value=0.0, max=271.0), HTML(value='')))"
      ]
     },
     "metadata": {},
     "output_type": "display_data"
    },
    {
     "name": "stdout",
     "output_type": "stream",
     "text": [
      "\n"
     ]
    }
   ],
   "source": [
    "#Vectorizing \n",
    "vectorized = []\n",
    "for i in tqdm(example_corpus):\n",
    "    vectorized.append(Bigraph.vectorize(i))\n"
   ]
  },
  {
   "cell_type": "code",
   "execution_count": 444,
   "metadata": {
    "jupyter": {
     "source_hidden": true
    },
    "tags": []
   },
   "outputs": [],
   "source": [
    "pad_size = example_corpus.apply(lambda x: len(x)).max()\n",
    "vec_norm = []\n",
    "for vec in vectorized:\n",
    "    V = np.zeros(pad_size)-1\n",
    "    V[:len(vec)] = vec\n",
    "    vec_norm.append(np.array(V))\n",
    "vec_norm = np.array(vec_norm)    "
   ]
  },
  {
   "cell_type": "code",
   "execution_count": 446,
   "metadata": {
    "collapsed": true,
    "jupyter": {
     "outputs_hidden": true,
     "source_hidden": true
    },
    "tags": []
   },
   "outputs": [
    {
     "data": {
      "text/plain": [
       "NearestNeighbors(algorithm='auto', leaf_size=30, metric='cosine',\n",
       "                 metric_params=None, n_jobs=None, n_neighbors=2, p=2,\n",
       "                 radius=1.0)"
      ]
     },
     "execution_count": 446,
     "metadata": {},
     "output_type": "execute_result"
    }
   ],
   "source": [
    "from sklearn.neighbors import NearestNeighbors\n",
    "NN = NearestNeighbors(n_neighbors=2,metric='cosine')\n",
    "\n",
    "NN.fit(vec_norm)\n",
    "distances, indices = NN.kneighbors(vec_norm)\n",
    "NN"
   ]
  },
  {
   "cell_type": "code",
   "execution_count": 447,
   "metadata": {
    "collapsed": true,
    "jupyter": {
     "outputs_hidden": true,
     "source_hidden": true
    },
    "tags": []
   },
   "outputs": [
    {
     "name": "stdout",
     "output_type": "stream",
     "text": [
      "{'offers'}\n",
      "{'more', 'the'}\n",
      "{'in', 'more', 'design'}\n",
      "{'more'}\n",
      "{'more'}\n"
     ]
    }
   ],
   "source": [
    "#intersection between NN\n",
    "for x,y in indices[:5]:\n",
    "    INSC = set(example_corpus[x].split()) & set(example_corpus[y].split())\n",
    "    print((INSC))"
   ]
  },
  {
   "cell_type": "code",
   "execution_count": 448,
   "metadata": {
    "jupyter": {
     "outputs_hidden": true,
     "source_hidden": true
    },
    "tags": []
   },
   "outputs": [
    {
     "name": "stdout",
     "output_type": "stream",
     "text": [
      "0.04485524262670604\n",
      "0.04382385801939337\n",
      "0.07672298601898053\n",
      "0.031067707611082684\n",
      "0.041609874879008246\n"
     ]
    }
   ],
   "source": [
    "#Cosine Distance\n",
    "from scipy.spatial.distance import cosine\n",
    "for x,y in indices[:5]:\n",
    "    INSC = cosine(vec_norm[x,:],vec_norm[y,:])\n",
    "    print((INSC))"
   ]
  },
  {
   "cell_type": "markdown",
   "metadata": {},
   "source": [
    "<h3 style=\"background-color:salmon;font-family:newtimeroman;font-size:200%;text-align:center;border-radius: 15px 50px;\">Exploring Global Connection Between Chromatic Number and Differnt Dataset</h3>\n"
   ]
  },
  {
   "cell_type": "code",
   "execution_count": 157,
   "metadata": {},
   "outputs": [
    {
     "name": "stderr",
     "output_type": "stream",
     "text": [
      "C:\\Users\\tomas\\anaconda3\\lib\\site-packages\\tqdm\\std.py:658: FutureWarning: The Panel class is removed from pandas. Accessing it from the top-level namespace will also be removed in the next version\n",
      "  from pandas import Panel\n"
     ]
    }
   ],
   "source": [
    "from wordcloud import STOPWORDS\n",
    "from string import punctuation\n",
    "results = []\n",
    "\n",
    "punctuation = punctuation + '“’‛‘”‹›»«–—'\n",
    "example_corpus = pd.read_csv('LYRICS_DATASET.csv')['Lyrics'].dropna()\n",
    "example_corpus = example_corpus.apply(lambda _z: ' '.join([word.lower() for word in _z.split() if word not in ' '.join(punctuation).split() and word not in STOPWORDS]))\n",
    "example_corpus = example_corpus.apply(lambda _z: ''.join([''.join(char) for word in _z for char in word if char not in ' '.join(punctuation).split()]))\n",
    "Bigraph = BiGramGraph(example_corpus,notebook=True)\n",
    "results.append({'lyrics':Bigraph.Data})\n",
    "\n",
    "example_corpus = pd.read_csv('Costumes_Amazon.csv')['text'].dropna()\n",
    "example_corpus = example_corpus.apply(lambda _z: ' '.join([word.lower() for word in _z.split() if word not in ' '.join(punctuation).split() and word not in STOPWORDS]))\n",
    "example_corpus = example_corpus.apply(lambda _z: ''.join([''.join(char) for word in _z for char in word if char not in ' '.join(punctuation).split()]))\n",
    "Bigraph = BiGramGraph(example_corpus,notebook=True)\n",
    "\n",
    "results.append({'amazon_reviews':Bigraph.Data})\n",
    "\n",
    "example_corpus = pd.read_csv('prog_book.csv')['Description'].dropna()\n",
    "example_corpus = example_corpus.apply(lambda _z: ' '.join([word.lower() for word in _z.split() if word not in ' '.join(punctuation).split() and word not in STOPWORDS]))\n",
    "example_corpus = example_corpus.apply(lambda _z: ''.join([''.join(char) for word in _z for char in word if char not in ' '.join(punctuation).split()]))\n",
    "Bigraph = BiGramGraph(example_corpus,notebook=True)\n",
    "results.append({'prog_books':Bigraph.Data})\n"
   ]
  },
  {
   "cell_type": "code",
   "execution_count": 178,
   "metadata": {},
   "outputs": [],
   "source": [
    "overlaping_words = set(list(results[0].values())[0]['word'])\n",
    "for dic in results[1:]:\n",
    "    overlaping_words = overlaping_words & set(list(dic.values())[0]['word'])\n",
    "    \n",
    "chrom_ds = pd.DataFrame(index = list(overlaping_words))\n",
    "for dic in results:\n",
    "    chrom_ds[list(dic.keys())[0]] = list(dic.values())[0].set_index('word').loc[overlaping_words]\n",
    "    "
   ]
  },
  {
   "cell_type": "code",
   "execution_count": 212,
   "metadata": {},
   "outputs": [
    {
     "data": {
      "text/html": [
       "<div>\n",
       "<style scoped>\n",
       "    .dataframe tbody tr th:only-of-type {\n",
       "        vertical-align: middle;\n",
       "    }\n",
       "\n",
       "    .dataframe tbody tr th {\n",
       "        vertical-align: top;\n",
       "    }\n",
       "\n",
       "    .dataframe thead th {\n",
       "        text-align: right;\n",
       "    }\n",
       "</style>\n",
       "<table border=\"1\" class=\"dataframe\">\n",
       "  <thead>\n",
       "    <tr style=\"text-align: right;\">\n",
       "      <th></th>\n",
       "      <th>lyrics</th>\n",
       "      <th>amazon_reviews</th>\n",
       "      <th>prog_books</th>\n",
       "    </tr>\n",
       "  </thead>\n",
       "  <tbody>\n",
       "    <tr>\n",
       "      <th>sounds</th>\n",
       "      <td>0</td>\n",
       "      <td>5</td>\n",
       "      <td>0</td>\n",
       "    </tr>\n",
       "    <tr>\n",
       "      <th>its</th>\n",
       "      <td>2</td>\n",
       "      <td>2</td>\n",
       "      <td>0</td>\n",
       "    </tr>\n",
       "    <tr>\n",
       "      <th>starting</th>\n",
       "      <td>0</td>\n",
       "      <td>0</td>\n",
       "      <td>0</td>\n",
       "    </tr>\n",
       "    <tr>\n",
       "      <th>care</th>\n",
       "      <td>3</td>\n",
       "      <td>9</td>\n",
       "      <td>0</td>\n",
       "    </tr>\n",
       "    <tr>\n",
       "      <th>book</th>\n",
       "      <td>1</td>\n",
       "      <td>3</td>\n",
       "      <td>2</td>\n",
       "    </tr>\n",
       "  </tbody>\n",
       "</table>\n",
       "</div>"
      ],
      "text/plain": [
       "         lyrics amazon_reviews prog_books\n",
       "sounds        0              5          0\n",
       "its           2              2          0\n",
       "starting      0              0          0\n",
       "care          3              9          0\n",
       "book          1              3          2"
      ]
     },
     "execution_count": 212,
     "metadata": {},
     "output_type": "execute_result"
    }
   ],
   "source": [
    "chrom_ds.head(5)"
   ]
  },
  {
   "cell_type": "code",
   "execution_count": 213,
   "metadata": {},
   "outputs": [
    {
     "data": {
      "text/html": [
       "<div>\n",
       "<style scoped>\n",
       "    .dataframe tbody tr th:only-of-type {\n",
       "        vertical-align: middle;\n",
       "    }\n",
       "\n",
       "    .dataframe tbody tr th {\n",
       "        vertical-align: top;\n",
       "    }\n",
       "\n",
       "    .dataframe thead th {\n",
       "        text-align: right;\n",
       "    }\n",
       "</style>\n",
       "<table border=\"1\" class=\"dataframe\">\n",
       "  <thead>\n",
       "    <tr style=\"text-align: right;\">\n",
       "      <th></th>\n",
       "      <th>lyrics</th>\n",
       "      <th>amazon_reviews</th>\n",
       "      <th>prog_books</th>\n",
       "    </tr>\n",
       "  </thead>\n",
       "  <tbody>\n",
       "    <tr>\n",
       "      <th>starting</th>\n",
       "      <td>0</td>\n",
       "      <td>0</td>\n",
       "      <td>0</td>\n",
       "    </tr>\n",
       "    <tr>\n",
       "      <th>2010</th>\n",
       "      <td>0</td>\n",
       "      <td>0</td>\n",
       "      <td>0</td>\n",
       "    </tr>\n",
       "    <tr>\n",
       "      <th>started</th>\n",
       "      <td>0</td>\n",
       "      <td>0</td>\n",
       "      <td>0</td>\n",
       "    </tr>\n",
       "    <tr>\n",
       "      <th>beginning</th>\n",
       "      <td>0</td>\n",
       "      <td>0</td>\n",
       "      <td>0</td>\n",
       "    </tr>\n",
       "    <tr>\n",
       "      <th>criticism</th>\n",
       "      <td>0</td>\n",
       "      <td>0</td>\n",
       "      <td>0</td>\n",
       "    </tr>\n",
       "    <tr>\n",
       "      <th>...</th>\n",
       "      <td>...</td>\n",
       "      <td>...</td>\n",
       "      <td>...</td>\n",
       "    </tr>\n",
       "    <tr>\n",
       "      <th>u</th>\n",
       "      <td>1</td>\n",
       "      <td>1</td>\n",
       "      <td>1</td>\n",
       "    </tr>\n",
       "    <tr>\n",
       "      <th>brings</th>\n",
       "      <td>1</td>\n",
       "      <td>1</td>\n",
       "      <td>1</td>\n",
       "    </tr>\n",
       "    <tr>\n",
       "      <th>finish</th>\n",
       "      <td>0</td>\n",
       "      <td>0</td>\n",
       "      <td>0</td>\n",
       "    </tr>\n",
       "    <tr>\n",
       "      <th>question</th>\n",
       "      <td>0</td>\n",
       "      <td>0</td>\n",
       "      <td>0</td>\n",
       "    </tr>\n",
       "    <tr>\n",
       "      <th>opposed</th>\n",
       "      <td>1</td>\n",
       "      <td>1</td>\n",
       "      <td>1</td>\n",
       "    </tr>\n",
       "  </tbody>\n",
       "</table>\n",
       "<p>109 rows × 3 columns</p>\n",
       "</div>"
      ],
      "text/plain": [
       "          lyrics amazon_reviews prog_books\n",
       "starting       0              0          0\n",
       "2010           0              0          0\n",
       "started        0              0          0\n",
       "beginning      0              0          0\n",
       "criticism      0              0          0\n",
       "...          ...            ...        ...\n",
       "u              1              1          1\n",
       "brings         1              1          1\n",
       "finish         0              0          0\n",
       "question       0              0          0\n",
       "opposed        1              1          1\n",
       "\n",
       "[109 rows x 3 columns]"
      ]
     },
     "execution_count": 213,
     "metadata": {},
     "output_type": "execute_result"
    }
   ],
   "source": [
    "same_chrom_num = chrom_ds.apply(lambda x: np.mean(x) == x[0] ,axis=1)\n",
    "\n",
    "chrom_ds[same_chrom_num]"
   ]
  },
  {
   "cell_type": "code",
   "execution_count": 196,
   "metadata": {},
   "outputs": [
    {
     "data": {
      "application/vnd.jupyter.widget-view+json": {
       "model_id": "e8853abbd27c422fa28140d0cc8166ec",
       "version_major": 2,
       "version_minor": 0
      },
      "text/plain": [
       "HBox(children=(FloatProgress(value=0.0, max=888.0), HTML(value='')))"
      ]
     },
     "metadata": {},
     "output_type": "display_data"
    },
    {
     "name": "stdout",
     "output_type": "stream",
     "text": [
      "\n"
     ]
    }
   ],
   "source": [
    "import spacy as sp\n",
    "_nlp = sp.load('en_core_web_sm')\n",
    "parts_of_speech = chrom_ds.index.to_series().progress_apply(lambda _z: _nlp(str(_z))[0].pos_)"
   ]
  },
  {
   "cell_type": "code",
   "execution_count": 211,
   "metadata": {},
   "outputs": [
    {
     "data": {
      "image/png": "[encoded data removed]",
      "text/plain": [
       "<Figure size 576x288 with 1 Axes>"
      ]
     },
     "metadata": {
      "needs_background": "light"
     },
     "output_type": "display_data"
    }
   ],
   "source": [
    "plt.figure(figsize=(8,4))\n",
    "ax = sns.countplot(x=parts_of_speech,order=parts_of_speech.value_counts().index)\n",
    "ax.set_xticklabels(ax.get_xticklabels(),rotation=90)\n",
    "plt.show()"
   ]
  },
  {
   "cell_type": "markdown",
   "metadata": {},
   "source": [
    "<h3 style=\"background-color:salmon;font-family:newtimeroman;font-size:200%;text-align:center;border-radius: 15px 50px;\">Paths</h3>\n"
   ]
  },
  {
   "cell_type": "code",
   "execution_count": null,
   "metadata": {},
   "outputs": [],
   "source": [
    "'''\n",
    "\n",
    "Question 1) Heaviest Path Between Two Nodes\n",
    "Question 2) Generate A Random Chromatic Vector and Generate the heaviest walk between the vector members\n",
    "\n",
    "'''"
   ]
  },
  {
   "cell_type": "markdown",
   "metadata": {},
   "source": [
    "<h3 style=\"background-color:salmon;font-family:newtimeroman;font-size:200%;text-align:center;border-radius: 15px 50px;\">Random Chromatic Walk</h3>\n"
   ]
  },
  {
   "cell_type": "code",
   "execution_count": 144,
   "metadata": {},
   "outputs": [],
   "source": [
    "from string import punctuation\n",
    "from wordcloud import STOPWORDS\n",
    "\n",
    "example_corpus = pd.read_excel('creepypastas.xlsx',read_cols=['body']).body\n",
    "example_corpus = example_corpus[example_corpus.notna()]\n",
    "example_corpus = example_corpus.str.strip().apply(lambda x: [i for i in re.findall(r'[a-zA-Z ]+',x) if i not in STOPWORDS])\n",
    "def join_with_space(ls):\n",
    "    out = ''\n",
    "    for i in ls:\n",
    "        if i != ' ':\n",
    "            out = out + i+' '\n",
    "        else:\n",
    "            out += i\n",
    "    return out\n",
    "    \n",
    "example_corpus = example_corpus.apply(join_with_space)\n",
    "example_corpus = ' '.join(example_corpus)\n",
    "Bigraph = BiGramGraph([example_corpus],notebook=True)"
   ]
  },
  {
   "cell_type": "code",
   "execution_count": 147,
   "metadata": {
    "scrolled": true
   },
   "outputs": [
    {
     "data": {
      "text/plain": [
       "Number of words included: 70585\n",
       "Number of edges included: 1623734\n",
       "Chromatic number: 64"
      ]
     },
     "execution_count": 147,
     "metadata": {},
     "output_type": "execute_result"
    }
   ],
   "source": [
    "Bigraph"
   ]
  },
  {
   "cell_type": "code",
   "execution_count": 148,
   "metadata": {},
   "outputs": [],
   "source": [
    "class ChromaticRandomWalker:\n",
    "    \n",
    "    \n",
    "    def __init__(self,Graph):\n",
    "        self.Graph = Graph\n",
    "        self.max_xi    = Graph.get_Xi()\n",
    "        \n",
    "    \n",
    "    def __repr__(self):\n",
    "        return self.Graph.__repr__()\n",
    "        \n",
    "    def generate_chromatic_vector(self,max_xi,size):\n",
    "        chromatic_nums = list(range(max_xi))\n",
    "        last_num = -1\n",
    "        chrom_vec = []\n",
    "        for i in range(size):\n",
    "            index = np.floor((np.random.beta(1.5,1.5,1)*max_xi)[0])\n",
    "            cur_choice = chromatic_nums[int(index)]\n",
    "            while cur_choice == last_num:\n",
    "                index = np.floor((np.random.beta(6,2,1)*max_xi)[0])\n",
    "                cur_choice = chromatic_nums[int(index)]\n",
    "            if cur_choice != last_num:\n",
    "                last_num=cur_choice\n",
    "                chrom_vec.append(cur_choice)\n",
    "            else:\n",
    "                continue\n",
    "        self.Random_Chromatic_Vec = chrom_vec\n",
    "    def calculate_path_weight(self,path):\n",
    "        weight = 0\n",
    "        start = path[0]\n",
    "        for i in path[1:]:\n",
    "            weight += self.Graph.Edges[(self.Graph.Edges['in'] == start)&(self.Graph.Edges.out == i)].weight.values[0]\n",
    "            start =i\n",
    "        return weight\n",
    "    \n",
    "    def generate(self,method='heaviest',vec_size = 5, depth=10):\n",
    "        self.vec_size  = vec_size        \n",
    "        self.generate_chromatic_vector(self.max_xi,self.vec_size)\n",
    "        result = ' '\n",
    "        first_word   = self.Graph.Data[self.Graph.Data.color==self.Random_Chromatic_Vec[0]].sample(1).word.values[0]\n",
    "        for n in tqdm(self.Random_Chromatic_Vec[1:]):\n",
    "            #Calculate Best Path\n",
    "            paths = []\n",
    "            targets = self.Graph.Data[self.Graph.Data.color==n]\n",
    "            targets = targets.sample(depth if len(targets) >=depth else len(targets))\n",
    "            for target in tqdm(targets.word,leave=False):\n",
    "                gen = self.Graph.get_Shortest_Simple_Path(first_word,target)\n",
    "                paths.append(next(gen))\n",
    "            weights = np.array([self.calculate_path_weight(i) for i in paths])\n",
    "            if method == 'heaviest':\n",
    "                best_walk = paths[np.argmax(weights)]\n",
    "                first_word = targets.word.values[np.argmax(weights)]\n",
    "            elif method =='lightest':\n",
    "                best_walk = paths[np.argmin(weights)]\n",
    "                first_word = targets.word.values[np.argmin(weights)]\n",
    "            elif method =='density_max':\n",
    "                weights = [calculate_path_density(self.Graph,i) for i in paths if i != np.ndarray ]\n",
    "                best_walk = paths[np.argmax(weights)]\n",
    "                first_word = targets.word.values[np.argmax(weights)]\n",
    "            elif method =='density_min':\n",
    "                weights = [calculate_path_density(self.Graph,i) for i in paths if i != np.ndarray]\n",
    "                best_walk = paths[np.argmin(weights)]\n",
    "                first_word = targets.word.values[np.argmin(weights)]\n",
    "            del weights\n",
    "            result += ' '.join(best_walk[:-1])+' '\n",
    "\n",
    "        return result\n"
   ]
  },
  {
   "cell_type": "code",
   "execution_count": 149,
   "metadata": {},
   "outputs": [],
   "source": [
    "RCW = ChromaticRandomWalker(Bigraph)"
   ]
  },
  {
   "cell_type": "code",
   "execution_count": 153,
   "metadata": {},
   "outputs": [
    {
     "data": {
      "application/vnd.jupyter.widget-view+json": {
       "model_id": "e1a08fc457b94a93b7e66b215b552a6a",
       "version_major": 2,
       "version_minor": 0
      },
      "text/plain": [
       "HBox(children=(FloatProgress(value=0.0, max=9.0), HTML(value='')))"
      ]
     },
     "metadata": {},
     "output_type": "display_data"
    },
    {
     "data": {
      "application/vnd.jupyter.widget-view+json": {
       "model_id": "",
       "version_major": 2,
       "version_minor": 0
      },
      "text/plain": [
       "HBox(children=(FloatProgress(value=0.0, max=10.0), HTML(value='')))"
      ]
     },
     "metadata": {},
     "output_type": "display_data"
    },
    {
     "data": {
      "application/vnd.jupyter.widget-view+json": {
       "model_id": "",
       "version_major": 2,
       "version_minor": 0
      },
      "text/plain": [
       "HBox(children=(FloatProgress(value=0.0, max=10.0), HTML(value='')))"
      ]
     },
     "metadata": {},
     "output_type": "display_data"
    },
    {
     "data": {
      "application/vnd.jupyter.widget-view+json": {
       "model_id": "",
       "version_major": 2,
       "version_minor": 0
      },
      "text/plain": [
       "HBox(children=(FloatProgress(value=0.0, max=10.0), HTML(value='')))"
      ]
     },
     "metadata": {},
     "output_type": "display_data"
    },
    {
     "data": {
      "application/vnd.jupyter.widget-view+json": {
       "model_id": "",
       "version_major": 2,
       "version_minor": 0
      },
      "text/plain": [
       "HBox(children=(FloatProgress(value=0.0, max=10.0), HTML(value='')))"
      ]
     },
     "metadata": {},
     "output_type": "display_data"
    },
    {
     "data": {
      "application/vnd.jupyter.widget-view+json": {
       "model_id": "",
       "version_major": 2,
       "version_minor": 0
      },
      "text/plain": [
       "HBox(children=(FloatProgress(value=0.0, max=10.0), HTML(value='')))"
      ]
     },
     "metadata": {},
     "output_type": "display_data"
    },
    {
     "data": {
      "application/vnd.jupyter.widget-view+json": {
       "model_id": "",
       "version_major": 2,
       "version_minor": 0
      },
      "text/plain": [
       "HBox(children=(FloatProgress(value=0.0, max=10.0), HTML(value='')))"
      ]
     },
     "metadata": {},
     "output_type": "display_data"
    },
    {
     "data": {
      "application/vnd.jupyter.widget-view+json": {
       "model_id": "",
       "version_major": 2,
       "version_minor": 0
      },
      "text/plain": [
       "HBox(children=(FloatProgress(value=0.0, max=10.0), HTML(value='')))"
      ]
     },
     "metadata": {},
     "output_type": "display_data"
    },
    {
     "data": {
      "application/vnd.jupyter.widget-view+json": {
       "model_id": "",
       "version_major": 2,
       "version_minor": 0
      },
      "text/plain": [
       "HBox(children=(FloatProgress(value=0.0, max=10.0), HTML(value='')))"
      ]
     },
     "metadata": {},
     "output_type": "display_data"
    },
    {
     "data": {
      "application/vnd.jupyter.widget-view+json": {
       "model_id": "",
       "version_major": 2,
       "version_minor": 0
      },
      "text/plain": [
       "HBox(children=(FloatProgress(value=0.0, max=10.0), HTML(value='')))"
      ]
     },
     "metadata": {},
     "output_type": "display_data"
    },
    {
     "name": "stdout",
     "output_type": "stream",
     "text": [
      "\n"
     ]
    },
    {
     "data": {
      "text/plain": [
       "' mistake What kind you been procrastinators and running his gun fight here late was '"
      ]
     },
     "execution_count": 153,
     "metadata": {},
     "output_type": "execute_result"
    }
   ],
   "source": [
    "RCW.generate(vec_size=10,method='density_min')"
   ]
  },
  {
   "cell_type": "code",
   "execution_count": 59,
   "metadata": {},
   "outputs": [
    {
     "data": {
      "text/plain": [
       "[5, 3, 11, 4, 5, 8, 6, 7, 6, 5]"
      ]
     },
     "execution_count": 59,
     "metadata": {},
     "output_type": "execute_result"
    }
   ],
   "source": [
    "RCW.Random_Chromatic_Vec"
   ]
  },
  {
   "cell_type": "markdown",
   "metadata": {},
   "source": [
    "<h3 style=\"background-color:salmon;font-family:newtimeroman;font-size:200%;text-align:center;border-radius: 15px 50px;\">Euler Cycles/Paths</h3>\n"
   ]
  },
  {
   "cell_type": "code",
   "execution_count": 122,
   "metadata": {},
   "outputs": [
    {
     "data": {
      "application/vnd.jupyter.widget-view+json": {
       "model_id": "567b9f5dbef2494cb175f19c62163b57",
       "version_major": 2,
       "version_minor": 0
      },
      "text/plain": [
       "  0%|          | 0/11857 [00:00<?, ?it/s]"
      ]
     },
     "metadata": {},
     "output_type": "display_data"
    }
   ],
   "source": [
    "unique_cycles = Bigraph.get_All_Unique_Cycles()"
   ]
  },
  {
   "cell_type": "code",
   "execution_count": 171,
   "metadata": {},
   "outputs": [
    {
     "data": {
      "text/plain": [
       "[('piece', 'everyone'),\n",
       " ('everyone', 'saw'),\n",
       " ('saw', 'stop'),\n",
       " ('stop', 'laughing'),\n",
       " ('laughing', 'feel'),\n",
       " ('feel', 'happy'),\n",
       " ('happy', 'very'),\n",
       " ('very', 'good'),\n",
       " ('good', 'ages'),\n",
       " ('ages', 'fun'),\n",
       " ('fun', 'piece')]"
      ]
     },
     "execution_count": 171,
     "metadata": {},
     "output_type": "execute_result"
    }
   ],
   "source": [
    "unique_cycles[9]"
   ]
  },
  {
   "cell_type": "code",
   "execution_count": 172,
   "metadata": {},
   "outputs": [
    {
     "data": {
      "text/plain": [
       "[('very', 'good'),\n",
       " ('good', 'ages'),\n",
       " ('ages', 'fun'),\n",
       " ('fun', 'piece'),\n",
       " ('piece', 'everyone'),\n",
       " ('everyone', 'saw'),\n",
       " ('saw', 'stop'),\n",
       " ('stop', 'laughing'),\n",
       " ('laughing', 'feel'),\n",
       " ('feel', 'happy'),\n",
       " ('happy', 'very')]"
      ]
     },
     "execution_count": 172,
     "metadata": {},
     "output_type": "execute_result"
    }
   ],
   "source": [
    "max(unique_cycles,key=lambda x: calculate_path_density(Bigraph,x))"
   ]
  },
  {
   "cell_type": "code",
   "execution_count": 154,
   "metadata": {},
   "outputs": [
    {
     "data": {
      "text/plain": [
       "6"
      ]
     },
     "execution_count": 154,
     "metadata": {},
     "output_type": "execute_result"
    }
   ],
   "source": [
    "Bigraph.Graph.out_degree('fore')"
   ]
  },
  {
   "cell_type": "markdown",
   "metadata": {},
   "source": [
    "<h3 style=\"background-color:salmon;font-family:newtimeroman;font-size:200%;text-align:center;border-radius: 15px 50px;\">Density of Nodes - Regions of High Density</h3>\n"
   ]
  },
  {
   "cell_type": "code",
   "execution_count": null,
   "metadata": {},
   "outputs": [],
   "source": []
  },
  {
   "cell_type": "markdown",
   "metadata": {},
   "source": [
    "<h3 style=\"background-color:salmon;font-family:newtimeroman;font-size:200%;text-align:center;border-radius: 15px 50px;\">Design A Clustring Algorithms Based on The Graph</h3>\n"
   ]
  },
  {
   "cell_type": "code",
   "execution_count": 2,
   "metadata": {},
   "outputs": [],
   "source": [
    "# Using some arbitrary alpha value we decide how far can we walk from a -\n",
    "#spesific node in terms of the edge weights using dikstra for example"
   ]
  },
  {
   "cell_type": "code",
   "execution_count": null,
   "metadata": {},
   "outputs": [],
   "source": []
  }
 ],
 "metadata": {
  "kernelspec": {
   "display_name": "Python 3",
   "language": "python",
   "name": "python3"
  },
  "language_info": {
   "codemirror_mode": {
    "name": "ipython",
    "version": 3
   },
   "file_extension": ".py",
   "mimetype": "text/x-python",
   "name": "python",
   "nbconvert_exporter": "python",
   "pygments_lexer": "ipython3",
   "version": "3.7.6"
  }
 },
 "nbformat": 4,
 "nbformat_minor": 5
}
