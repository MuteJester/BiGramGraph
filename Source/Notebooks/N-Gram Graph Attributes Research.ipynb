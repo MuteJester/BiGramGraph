{
 "cells": [
  {
   "cell_type": "markdown",
   "id": "0094ab01",
   "metadata": {},
   "source": [
    "<h3 style=\"background-color:skyblue;font-family:newtimeroman;font-size:250%;text-align:center;border-radius: 15px 50px;\">Libraries and Utilities</h3>\n"
   ]
  },
  {
   "cell_type": "code",
   "execution_count": 4,
   "id": "42a53357",
   "metadata": {},
   "outputs": [],
   "source": [
    "import numpy             as np\n",
    "import pandas            as pd\n",
    "import matplotlib.pyplot as plt\n",
    "import networkx          as nx\n",
    "import os\n",
    "import re"
   ]
  },
  {
   "cell_type": "markdown",
   "id": "eaaf26c2",
   "metadata": {},
   "source": [
    "<h3 style=\"background-color:skyblue;font-family:newtimeroman;font-size:250%;text-align:center;border-radius: 15px 50px;\">N gram Graph Generator</h3>\n"
   ]
  },
  {
   "cell_type": "code",
   "execution_count": null,
   "id": "374ec0b7",
   "metadata": {},
   "outputs": [],
   "source": []
  },
  {
   "cell_type": "markdown",
   "id": "07107df3",
   "metadata": {},
   "source": [
    "<h3 style=\"background-color:skyblue;font-family:newtimeroman;font-size:250%;text-align:center;border-radius: 15px 50px;\">Graph Attribute Exploration</h3>\n"
   ]
  },
  {
   "cell_type": "markdown",
   "id": "212f9224",
   "metadata": {},
   "source": [
    "<h3 style=\"background-color:salmon;font-family:newtimeroman;font-size:200%;text-align:center;border-radius: 15px 50px;\">Chromatic Number</h3>\n"
   ]
  },
  {
   "cell_type": "code",
   "execution_count": null,
   "id": "0eec1463",
   "metadata": {},
   "outputs": [],
   "source": []
  },
  {
   "cell_type": "markdown",
   "id": "3d1eec19",
   "metadata": {},
   "source": [
    "<h3 style=\"background-color:salmon;font-family:newtimeroman;font-size:200%;text-align:center;border-radius: 15px 50px;\">Min/Max Degrees</h3>\n"
   ]
  },
  {
   "cell_type": "code",
   "execution_count": null,
   "id": "a8f09aac",
   "metadata": {},
   "outputs": [],
   "source": []
  },
  {
   "cell_type": "markdown",
   "id": "9796454d",
   "metadata": {},
   "source": [
    "<h3 style=\"background-color:salmon;font-family:newtimeroman;font-size:200%;text-align:center;border-radius: 15px 50px;\">Hamiltonian Cycles/Paths</h3>\n"
   ]
  },
  {
   "cell_type": "code",
   "execution_count": null,
   "id": "39b0957e",
   "metadata": {},
   "outputs": [],
   "source": []
  },
  {
   "cell_type": "markdown",
   "id": "a2c171d5",
   "metadata": {},
   "source": [
    "<h3 style=\"background-color:salmon;font-family:newtimeroman;font-size:200%;text-align:center;border-radius: 15px 50px;\">Euler Cycles/Paths</h3>\n"
   ]
  },
  {
   "cell_type": "code",
   "execution_count": null,
   "id": "e057c55b",
   "metadata": {},
   "outputs": [],
   "source": []
  },
  {
   "cell_type": "markdown",
   "id": "3ded5284",
   "metadata": {},
   "source": [
    "<h3 style=\"background-color:salmon;font-family:newtimeroman;font-size:200%;text-align:center;border-radius: 15px 50px;\">Max Clique</h3>\n"
   ]
  },
  {
   "cell_type": "code",
   "execution_count": null,
   "id": "53a24e48",
   "metadata": {},
   "outputs": [],
   "source": []
  },
  {
   "cell_type": "markdown",
   "id": "eada28d5",
   "metadata": {},
   "source": [
    "<h3 style=\"background-color:salmon;font-family:newtimeroman;font-size:200%;text-align:center;border-radius: 15px 50px;\">Max Independent Set</h3>\n"
   ]
  },
  {
   "cell_type": "code",
   "execution_count": null,
   "id": "b7fb41ff",
   "metadata": {},
   "outputs": [],
   "source": []
  },
  {
   "cell_type": "markdown",
   "id": "ff8e183f",
   "metadata": {},
   "source": [
    "<h3 style=\"background-color:salmon;font-family:newtimeroman;font-size:200%;text-align:center;border-radius: 15px 50px;\">Density of Nodes - Regions of High Density</h3>\n"
   ]
  },
  {
   "cell_type": "code",
   "execution_count": null,
   "id": "6775102d",
   "metadata": {},
   "outputs": [],
   "source": []
  },
  {
   "cell_type": "markdown",
   "id": "45ef5bc9",
   "metadata": {},
   "source": [
    "<h3 style=\"background-color:salmon;font-family:newtimeroman;font-size:200%;text-align:center;border-radius: 15px 50px;\">Design A Clustring Algorithms Based on The Graph</h3>\n"
   ]
  },
  {
   "cell_type": "code",
   "execution_count": 2,
   "id": "cf52a481",
   "metadata": {},
   "outputs": [],
   "source": [
    "# Using some arbitrary alpha value we decide how far can we walk from a -\n",
    "#spesific node in terms of the edge weights using dikstra for example"
   ]
  },
  {
   "cell_type": "code",
   "execution_count": null,
   "id": "264a8692",
   "metadata": {},
   "outputs": [],
   "source": []
  }
 ],
 "metadata": {
  "kernelspec": {
   "display_name": "Python 3",
   "language": "python",
   "name": "python3"
  },
  "language_info": {
   "codemirror_mode": {
    "name": "ipython",
    "version": 3
   },
   "file_extension": ".py",
   "mimetype": "text/x-python",
   "name": "python",
   "nbconvert_exporter": "python",
   "pygments_lexer": "ipython3",
   "version": "3.8.5"
  }
 },
 "nbformat": 4,
 "nbformat_minor": 5
}
