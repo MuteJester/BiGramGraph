{
 "cells": [
  {
   "cell_type": "markdown",
   "id": "5428ba17",
   "metadata": {},
   "source": [
    "<h3 style=\"background-color:skyblue;font-family:newtimeroman;font-size:250%;text-align:center;border-radius: 15px 50px;\">Libraries and Utilities</h3>\n"
   ]
  },
  {
   "cell_type": "code",
   "execution_count": 124,
   "id": "466e8252",
   "metadata": {},
   "outputs": [],
   "source": [
    "import numpy             as np\n",
    "import pandas            as pd\n",
    "import matplotlib.pyplot as plt\n",
    "import networkx          as nx\n",
    "from nltk                import ngrams\n",
    "from pyvis.network       import Network\n",
    "import os\n",
    "import re\n",
    "import nltk\n",
    "import pydot"
   ]
  },
  {
   "cell_type": "markdown",
   "id": "3d1b4364",
   "metadata": {},
   "source": [
    "<h3 style=\"background-color:skyblue;font-family:newtimeroman;font-size:250%;text-align:center;border-radius: 15px 50px;\">N gram Graph Generator</h3>\n"
   ]
  },
  {
   "cell_type": "code",
   "execution_count": 182,
   "id": "88993ded",
   "metadata": {},
   "outputs": [],
   "source": [
    "class NgramGrapher():\n",
    "    \"\"\"\n",
    "    A class used to transform a corpus given as a numpy array into a graph form of the\n",
    "    n-gram representation.\n",
    "\n",
    "    ...\n",
    "\n",
    "    Attributes\n",
    "    ----------\n",
    "    Graph : nx.Graph\n",
    "        The Graph Representation of The Ngram Input.\n",
    "    N_nodes : int\n",
    "        Number of Nodes in Graph.\n",
    "    N_edges : int\n",
    "        Number of Edges in Graph.\n",
    "    In_Max_Deg : int\n",
    "        Maximum In Degree in Graph.\n",
    "    Out_Max_Deg : int\n",
    "        Maximum Out Degree in Graph.\n",
    "    In_Min_Deg : int\n",
    "        Minimum In Degree in Graph.\n",
    "    Out_Min_Deg : int\n",
    "        Minimum Out Degree in Graph.\n",
    "\n",
    "    Methods\n",
    "    -------\n",
    "    Example_Method(arg=None)\n",
    "        Add info\n",
    "    \"\"\"\n",
    "    def __init__(self,data,n=2):\n",
    "        tokenized_text    = ' '.join(data).split()\n",
    "        ngram             = ngrams(tokenized_text,n=n)\n",
    "        ngram             = list(ngram)\n",
    "        \n",
    "        n_frequencies      = nltk.FreqDist(ngram)\n",
    "        edges              = list(dict(n_frequencies).keys())\n",
    "        nodes              = np.unique(np.array(edges).flatten())\n",
    "\n",
    "        self.Graph = nx.Graph()\n",
    "        self.Graph.add_nodes_from(nodes)\n",
    "        for x,y in edges:\n",
    "            self.Graph.add_edge(x,y,value=n_frequencies[(x,y)])\n",
    "\n",
    "        self.Graph = nx.DiGraph(self.Graph)\n",
    "        \n",
    "        \n",
    "        \n",
    "        #Graph Attributes\n",
    "        self.N_nodes       = len(nodes)\n",
    "        self.N_edges       = len(edges)\n",
    "        self.In_Max_Deg    = max(dict(self.Graph.in_degree).values())\n",
    "        self.Out_Max_Deg   = max(dict(self.Graph.out_degree).values())\n",
    "        self.In_Min_Deg    = min(dict(self.Graph.in_degree).values())\n",
    "        self.Out_Min_Deg   = min(dict(self.Graph.out_degree).values())\n",
    "        \n",
    "        pos = nx.spiral_layout(self.Graph,resolution =3.5)\n",
    "        #pos = nx.drawing.nx_pydot.graphviz_layout(self.Graph)\n",
    "\n",
    "    def Viz_Graph(self,notebook=False,height=500,width=900,directed=False):\n",
    "        nt = Network(f'{height}px', f'{width}px',notebook=notebook,directed=directed)\n",
    "        nt.set_options(\n",
    "            'var options = { \"physics\": {\"forceAtlas2Based\": {\"gravitationalConstant\": -230,\"springLength\": 170,\\\n",
    "              \"springConstant\": 0,\\\n",
    "              \"avoidOverlap\": 1\\\n",
    "            },\\\n",
    "            \"minVelocity\": 0.75,\\\n",
    "            \"solver\": \"forceAtlas2Based\",\\\n",
    "            \"timestep\": 1\\\n",
    "          }\\\n",
    "        }\\\n",
    "        ')\n",
    "        nt.from_nx(self.Graph)\n",
    "        #nt.show_buttons(filter_=['physics'])\n",
    "        nt.prep_notebook()\n",
    "        return nt.show('nx.html')\n",
    "\n",
    "    "
   ]
  },
  {
   "cell_type": "code",
   "execution_count": 183,
   "id": "e0654d97",
   "metadata": {
    "scrolled": true
   },
   "outputs": [],
   "source": [
    "example_corpus = np.array(['in the fields of computational linguistics and probability, an n-gram is a contiguous sequence of n items from a given sample of text or speech. The items can be phonemes, syllables, letters, words or base pairs according to the application. The n-grams typically are collected from a text or speech corpus. When the items are words, n-grams may also be called shingles',\n",
    "                          'An n-gram model is a type of probabilistic language model for predicting the next item in such a sequence in the form of a (n − 1)–order Markov model.[2] n-gram models are now widely used in probability, communication theory, computational linguistics (for instance, statistical natural language processing), computational biology (for instance, biological sequence analysis), and data compression. Two benefits of n-gram models (and algorithms that use them) are simplicity and scalability – with larger n, a model can store more context with a well-understood space–time tradeoff, enabling small experiments to scale up efficiently.'],dtype='object')\n",
    "\n",
    "Bigraph = NgramGrapher(example_corpus,2)\n",
    "\n"
   ]
  },
  {
   "cell_type": "code",
   "execution_count": 184,
   "id": "37c905cb",
   "metadata": {},
   "outputs": [
    {
     "data": {
      "text/html": [
       "\n",
       "        <iframe\n",
       "            width=\"900px\"\n",
       "            height=\"500px\"\n",
       "            src=\"nx.html\"\n",
       "            frameborder=\"0\"\n",
       "            allowfullscreen\n",
       "        ></iframe>\n",
       "        "
      ],
      "text/plain": [
       "<IPython.lib.display.IFrame at 0x20d53fe1f70>"
      ]
     },
     "execution_count": 184,
     "metadata": {},
     "output_type": "execute_result"
    }
   ],
   "source": [
    "Bigraph.Viz_Graph(notebook=True,directed=True)"
   ]
  },
  {
   "cell_type": "markdown",
   "id": "08a17f65",
   "metadata": {},
   "source": [
    "<h3 style=\"background-color:skyblue;font-family:newtimeroman;font-size:250%;text-align:center;border-radius: 15px 50px;\">Graph Attribute Exploration</h3>\n"
   ]
  },
  {
   "cell_type": "markdown",
   "id": "61ff9708",
   "metadata": {},
   "source": [
    "<h3 style=\"background-color:salmon;font-family:newtimeroman;font-size:200%;text-align:center;border-radius: 15px 50px;\">Chromatic Number</h3>\n"
   ]
  },
  {
   "cell_type": "code",
   "execution_count": null,
   "id": "ef8b3aa5",
   "metadata": {},
   "outputs": [],
   "source": []
  },
  {
   "cell_type": "markdown",
   "id": "3fe62874",
   "metadata": {},
   "source": [
    "<h3 style=\"background-color:salmon;font-family:newtimeroman;font-size:200%;text-align:center;border-radius: 15px 50px;\">Min/Max Degrees</h3>\n"
   ]
  },
  {
   "cell_type": "code",
   "execution_count": null,
   "id": "bbc6cc91",
   "metadata": {},
   "outputs": [],
   "source": []
  },
  {
   "cell_type": "markdown",
   "id": "dada7456",
   "metadata": {},
   "source": [
    "<h3 style=\"background-color:salmon;font-family:newtimeroman;font-size:200%;text-align:center;border-radius: 15px 50px;\">Hamiltonian Cycles/Paths</h3>\n"
   ]
  },
  {
   "cell_type": "code",
   "execution_count": null,
   "id": "f2591733",
   "metadata": {},
   "outputs": [],
   "source": []
  },
  {
   "cell_type": "markdown",
   "id": "4e20e941",
   "metadata": {},
   "source": [
    "<h3 style=\"background-color:salmon;font-family:newtimeroman;font-size:200%;text-align:center;border-radius: 15px 50px;\">Euler Cycles/Paths</h3>\n"
   ]
  },
  {
   "cell_type": "code",
   "execution_count": null,
   "id": "677a7357",
   "metadata": {},
   "outputs": [],
   "source": []
  },
  {
   "cell_type": "markdown",
   "id": "a4482692",
   "metadata": {},
   "source": [
    "<h3 style=\"background-color:salmon;font-family:newtimeroman;font-size:200%;text-align:center;border-radius: 15px 50px;\">Max Clique</h3>\n"
   ]
  },
  {
   "cell_type": "code",
   "execution_count": null,
   "id": "e489011b",
   "metadata": {},
   "outputs": [],
   "source": []
  },
  {
   "cell_type": "markdown",
   "id": "276bd5a6",
   "metadata": {},
   "source": [
    "<h3 style=\"background-color:salmon;font-family:newtimeroman;font-size:200%;text-align:center;border-radius: 15px 50px;\">Max Independent Set</h3>\n"
   ]
  },
  {
   "cell_type": "code",
   "execution_count": null,
   "id": "46660c83",
   "metadata": {},
   "outputs": [],
   "source": []
  },
  {
   "cell_type": "markdown",
   "id": "9fcbbd87",
   "metadata": {},
   "source": [
    "<h3 style=\"background-color:salmon;font-family:newtimeroman;font-size:200%;text-align:center;border-radius: 15px 50px;\">Density of Nodes - Regions of High Density</h3>\n"
   ]
  },
  {
   "cell_type": "code",
   "execution_count": null,
   "id": "d16cc0d7",
   "metadata": {},
   "outputs": [],
   "source": []
  },
  {
   "cell_type": "markdown",
   "id": "fe7019cf",
   "metadata": {},
   "source": [
    "<h3 style=\"background-color:salmon;font-family:newtimeroman;font-size:200%;text-align:center;border-radius: 15px 50px;\">Design A Clustring Algorithms Based on The Graph</h3>\n"
   ]
  },
  {
   "cell_type": "code",
   "execution_count": 2,
   "id": "d4694147",
   "metadata": {},
   "outputs": [],
   "source": [
    "# Using some arbitrary alpha value we decide how far can we walk from a -\n",
    "#spesific node in terms of the edge weights using dikstra for example"
   ]
  },
  {
   "cell_type": "code",
   "execution_count": null,
   "id": "b848de23",
   "metadata": {},
   "outputs": [],
   "source": []
  }
 ],
 "metadata": {
  "kernelspec": {
   "display_name": "Python 3",
   "language": "python",
   "name": "python3"
  },
  "language_info": {
   "codemirror_mode": {
    "name": "ipython",
    "version": 3
   },
   "file_extension": ".py",
   "mimetype": "text/x-python",
   "name": "python",
   "nbconvert_exporter": "python",
   "pygments_lexer": "ipython3",
   "version": "3.8.5"
  }
 },
 "nbformat": 4,
 "nbformat_minor": 5
}
